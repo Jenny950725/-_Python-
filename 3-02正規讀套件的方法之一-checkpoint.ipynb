{
 "cells": [
  {
   "cell_type": "markdown",
   "id": "0e4663e8",
   "metadata": {},
   "source": [
    "不再用pylab"
   ]
  },
  {
   "cell_type": "markdown",
   "id": "0022ed06",
   "metadata": {},
   "source": [
    "還不會算sin:"
   ]
  },
  {
   "cell_type": "code",
   "execution_count": 2,
   "id": "b366a3c4",
   "metadata": {},
   "outputs": [
    {
     "ename": "NameError",
     "evalue": "name 'sin' is not defined",
     "output_type": "error",
     "traceback": [
      "\u001b[1;31m---------------------------------------------------------------------------\u001b[0m",
      "\u001b[1;31mNameError\u001b[0m                                 Traceback (most recent call last)",
      "\u001b[1;32m~\\AppData\\Local\\Temp/ipykernel_19300/1532400118.py\u001b[0m in \u001b[0;36m<module>\u001b[1;34m\u001b[0m\n\u001b[1;32m----> 1\u001b[1;33m \u001b[0msin\u001b[0m\u001b[1;33m(\u001b[0m\u001b[1;36m3\u001b[0m\u001b[1;33m)\u001b[0m\u001b[1;33m\u001b[0m\u001b[1;33m\u001b[0m\u001b[0m\n\u001b[0m",
      "\u001b[1;31mNameError\u001b[0m: name 'sin' is not defined"
     ]
    }
   ],
   "source": [
    "sin(3)"
   ]
  },
  {
   "cell_type": "code",
   "execution_count": 4,
   "id": "598d95c0",
   "metadata": {},
   "outputs": [],
   "source": [
    "from numpy import sin"
   ]
  },
  {
   "cell_type": "code",
   "execution_count": 5,
   "id": "d5751e44",
   "metadata": {},
   "outputs": [
    {
     "data": {
      "text/plain": [
       "0.1411200080598672"
      ]
     },
     "execution_count": 5,
     "metadata": {},
     "output_type": "execute_result"
    }
   ],
   "source": [
    "sin(3)"
   ]
  },
  {
   "cell_type": "markdown",
   "id": "b6fca238",
   "metadata": {},
   "source": [
    "讀所有的套件\n",
    "\n",
    "from 套件 import *"
   ]
  },
  {
   "cell_type": "code",
   "execution_count": 6,
   "id": "a8dbfed4",
   "metadata": {},
   "outputs": [],
   "source": [
    "from numpy import * "
   ]
  },
  {
   "cell_type": "code",
   "execution_count": 7,
   "id": "b4ec0670",
   "metadata": {},
   "outputs": [
    {
     "data": {
      "text/plain": [
       "-0.9899924966004454"
      ]
     },
     "execution_count": 7,
     "metadata": {},
     "output_type": "execute_result"
    }
   ],
   "source": [
    "cos(3)"
   ]
  },
  {
   "cell_type": "code",
   "execution_count": 8,
   "id": "07deacf3",
   "metadata": {},
   "outputs": [
    {
     "data": {
      "text/plain": [
       "3.141592653589793"
      ]
     },
     "execution_count": 8,
     "metadata": {},
     "output_type": "execute_result"
    }
   ],
   "source": [
    "pi "
   ]
  },
  {
   "cell_type": "markdown",
   "id": "f620ae9d",
   "metadata": {},
   "source": [
    "不推薦這種用法的原因\n",
    "如果把所有套件的函數都讀進來，可能導致同名的函數搞混，因此不推薦使用%pylab inline 或 import * 來讀套件"
   ]
  },
  {
   "cell_type": "markdown",
   "id": "166b3755",
   "metadata": {},
   "source": [
    "random 套件"
   ]
  },
  {
   "cell_type": "markdown",
   "id": "bfdac8e1",
   "metadata": {},
   "source": [
    "from random import *"
   ]
  },
  {
   "cell_type": "code",
   "execution_count": 13,
   "id": "dd3cbc05",
   "metadata": {},
   "outputs": [
    {
     "name": "stdout",
     "output_type": "stream",
     "text": [
      "1, 10, 2, 8, 2, 1, 9, 9, 3, 8, 4, 5, 3, 4, 3, 6, 4, 8, 3, 2, 10, 3, 6, 1, 1, 4, 6, 3, 5, 10, 5, 7, 5, 1, 1, 1, 8, 1, 5, 2, 6, 2, 4, 6, 4, 9, 10, 9, 5, 8, "
     ]
    }
   ],
   "source": [
    "for i in range(50):\n",
    "    print(randint(1,10), end=\", \") #小技巧:想在每一個print之後加的東西，就寫在end=\"\"的引號裡面"
   ]
  },
  {
   "cell_type": "markdown",
   "id": "8e99be26",
   "metadata": {},
   "source": [
    "numpy套件"
   ]
  },
  {
   "cell_type": "code",
   "execution_count": 14,
   "id": "c83030f6",
   "metadata": {},
   "outputs": [],
   "source": [
    "from numpy import *"
   ]
  },
  {
   "cell_type": "code",
   "execution_count": 19,
   "id": "57b1386b",
   "metadata": {},
   "outputs": [
    {
     "name": "stdout",
     "output_type": "stream",
     "text": [
      "7, 9, 7, 2, 3, 10, 8, 6, 2, 9, 1, 4, 9, 3, 8, 10, 5, 7, 8, 3, 4, 5, 5, 6, 8, 3, 7, 3, 1, 6, 3, 9, 8, 3, 8, 8, 4, 5, 9, 3, 1, 2, 5, 8, 10, 6, 2, 7, 10, 9, "
     ]
    }
   ],
   "source": [
    "for i in range(50):\n",
    "    print(randint(1,10), end=\", \") "
   ]
  },
  {
   "cell_type": "markdown",
   "id": "59cea34c",
   "metadata": {},
   "source": [
    "雖然長很像，但是numpy套件產生出來的亂數不包含10，範圍只設在1 <= 亂數 < 10\n",
    "\n",
    "所以把所有函數都導入的話，可能導致混亂。"
   ]
  },
  {
   "cell_type": "code",
   "execution_count": null,
   "id": "d4f59b80",
   "metadata": {},
   "outputs": [],
   "source": []
  }
 ],
 "metadata": {
  "kernelspec": {
   "display_name": "Python 3 (ipykernel)",
   "language": "python",
   "name": "python3"
  },
  "language_info": {
   "codemirror_mode": {
    "name": "ipython",
    "version": 3
   },
   "file_extension": ".py",
   "mimetype": "text/x-python",
   "name": "python",
   "nbconvert_exporter": "python",
   "pygments_lexer": "ipython3",
   "version": "3.9.7"
  }
 },
 "nbformat": 4,
 "nbformat_minor": 5
}
