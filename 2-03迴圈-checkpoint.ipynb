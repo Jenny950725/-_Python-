{
 "cells": [
  {
   "cell_type": "markdown",
   "id": "f6e9cc0b",
   "metadata": {},
   "source": [
    "### 把0變1 變2 變3"
   ]
  },
  {
   "cell_type": "code",
   "execution_count": 2,
   "id": "6078677c",
   "metadata": {},
   "outputs": [
    {
     "data": {
      "text/plain": [
       "1"
      ]
     },
     "execution_count": 2,
     "metadata": {},
     "output_type": "execute_result"
    }
   ],
   "source": [
    "num = 0\n",
    "num = num + 1 #把這個數加一之後 放回原本的位置\n",
    "num"
   ]
  },
  {
   "cell_type": "code",
   "execution_count": 3,
   "id": "552d1884",
   "metadata": {},
   "outputs": [
    {
     "data": {
      "text/plain": [
       "2"
      ]
     },
     "execution_count": 3,
     "metadata": {},
     "output_type": "execute_result"
    }
   ],
   "source": [
    "num = num + 1\n",
    "num"
   ]
  },
  {
   "cell_type": "markdown",
   "id": "6b337010",
   "metadata": {},
   "source": [
    "## 迴圈"
   ]
  },
  {
   "cell_type": "markdown",
   "id": "5b91f919",
   "metadata": {},
   "source": [
    "### 印出星星塔"
   ]
  },
  {
   "cell_type": "code",
   "execution_count": 5,
   "id": "edc246c7",
   "metadata": {},
   "outputs": [
    {
     "name": "stdout",
     "output_type": "stream",
     "text": [
      "*\n",
      "**\n",
      "***\n",
      "****\n",
      "*****\n",
      "******\n",
      "*******\n",
      "********\n",
      "*********\n",
      "**********\n"
     ]
    }
   ],
   "source": [
    "s = 1\n",
    "while s<=10:\n",
    "    print(\"*\" * s)\n",
    "    s = s + 1"
   ]
  },
  {
   "cell_type": "markdown",
   "id": "48089100",
   "metadata": {},
   "source": [
    "在python中用縮排表示\n",
    "(在c++中用大括號分號表示)\n",
    "\n",
    "python中一個tab等於四個space\n",
    "\n",
    "條件後面記得加 :"
   ]
  },
  {
   "cell_type": "markdown",
   "id": "5e125360",
   "metadata": {},
   "source": [
    "### 拍拍機器人改良版 可以輸入多次"
   ]
  },
  {
   "cell_type": "code",
   "execution_count": 6,
   "id": "4473c55c",
   "metadata": {},
   "outputs": [
    {
     "name": "stdout",
     "output_type": "stream",
     "text": [
      "我是拍拍機器人，你有甚麼話想說的嗎?如果你覺得聊夠了，請輸入bye\n",
      ">>blabla\n",
      "拍拍\n",
      ">>好難過\n",
      "拍拍\n",
      ">>bye\n",
      "拍拍\n"
     ]
    }
   ],
   "source": [
    "print(\"我是拍拍機器人，你有甚麼話想說的嗎?如果你覺得聊夠了，請輸入bye\")\n",
    "message = \"\"\n",
    "while message != \"bye\":\n",
    "    message = input(\">>\")\n",
    "    print(\"拍拍\")"
   ]
  }
 ],
 "metadata": {
  "kernelspec": {
   "display_name": "Python 3 (ipykernel)",
   "language": "python",
   "name": "python3"
  },
  "language_info": {
   "codemirror_mode": {
    "name": "ipython",
    "version": 3
   },
   "file_extension": ".py",
   "mimetype": "text/x-python",
   "name": "python",
   "nbconvert_exporter": "python",
   "pygments_lexer": "ipython3",
   "version": "3.9.7"
  }
 },
 "nbformat": 4,
 "nbformat_minor": 5
}
