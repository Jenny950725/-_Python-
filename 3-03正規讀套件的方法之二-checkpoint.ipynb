{
 "cells": [
  {
   "cell_type": "code",
   "execution_count": 1,
   "id": "b15aa23b",
   "metadata": {},
   "outputs": [],
   "source": [
    "import numpy"
   ]
  },
  {
   "cell_type": "code",
   "execution_count": 2,
   "id": "77682048",
   "metadata": {},
   "outputs": [
    {
     "data": {
      "text/plain": [
       "0.1411200080598672"
      ]
     },
     "execution_count": 2,
     "metadata": {},
     "output_type": "execute_result"
    }
   ],
   "source": [
    "numpy.sin(3) "
   ]
  },
  {
   "cell_type": "code",
   "execution_count": 3,
   "id": "489bb728",
   "metadata": {},
   "outputs": [
    {
     "data": {
      "text/plain": [
       "3.141592653589793"
      ]
     },
     "execution_count": 3,
     "metadata": {},
     "output_type": "execute_result"
    }
   ],
   "source": [
    "numpy.pi"
   ]
  },
  {
   "cell_type": "markdown",
   "id": "bde3adab",
   "metadata": {},
   "source": [
    "叫numpy的方法  :\n",
    "numpy.函數名"
   ]
  },
  {
   "cell_type": "markdown",
   "id": "82237fab",
   "metadata": {},
   "source": [
    "幫函式取綽號，就不用打那麼長"
   ]
  },
  {
   "cell_type": "code",
   "execution_count": 4,
   "id": "5dae06da",
   "metadata": {},
   "outputs": [],
   "source": [
    "import numpy as np "
   ]
  },
  {
   "cell_type": "code",
   "execution_count": 5,
   "id": "5d10b0ac",
   "metadata": {},
   "outputs": [
    {
     "data": {
      "text/plain": [
       "0.1411200080598672"
      ]
     },
     "execution_count": 5,
     "metadata": {},
     "output_type": "execute_result"
    }
   ],
   "source": [
    "np.sin(3)"
   ]
  },
  {
   "cell_type": "code",
   "execution_count": 6,
   "id": "95c3d19c",
   "metadata": {},
   "outputs": [
    {
     "data": {
      "text/plain": [
       "3.141592653589793"
      ]
     },
     "execution_count": 6,
     "metadata": {},
     "output_type": "execute_result"
    }
   ],
   "source": [
    "np.pi"
   ]
  },
  {
   "cell_type": "code",
   "execution_count": 7,
   "id": "a5c09f69",
   "metadata": {},
   "outputs": [],
   "source": [
    "import random"
   ]
  },
  {
   "cell_type": "markdown",
   "id": "4a222830",
   "metadata": {},
   "source": [
    "用random產生亂數"
   ]
  },
  {
   "cell_type": "code",
   "execution_count": 12,
   "id": "ce634ec0",
   "metadata": {},
   "outputs": [
    {
     "name": "stdout",
     "output_type": "stream",
     "text": [
      "5, 2, 5, 6, 6, 6, 5, 6, 4, 5, 10, 3, 4, 3, 6, 6, 2, 9, 7, 10, 4, 10, 4, 6, 4, 3, 2, 10, 7, 1, 5, 8, 2, 4, 5, 9, 5, 8, 8, 4, 1, 8, 10, 9, 3, 7, 9, 6, 4, 9, "
     ]
    }
   ],
   "source": [
    "for i in range(50):\n",
    "    print(random.randint(1,10), end=\", \") "
   ]
  },
  {
   "cell_type": "markdown",
   "id": "a77bca6f",
   "metadata": {},
   "source": [
    "用numpy裡的random產生亂數"
   ]
  },
  {
   "cell_type": "code",
   "execution_count": 26,
   "id": "26b889fc",
   "metadata": {},
   "outputs": [
    {
     "name": "stdout",
     "output_type": "stream",
     "text": [
      "6, 4, 2, 3, 9, 9, 2, 3, 3, 3, 2, 9, 9, 5, 9, 8, 6, 7, 5, 7, 6, 7, 1, 6, 9, 3, 5, 9, 9, 9, 1, 5, 3, 1, 9, 5, 2, 3, 7, 6, 2, 1, 7, 5, 8, 9, 7, 3, 2, 2, "
     ]
    }
   ],
   "source": [
    "for i in range(50):\n",
    "    print(numpy.random.randint(1,10), end=\", \") "
   ]
  },
  {
   "cell_type": "markdown",
   "id": "50d663b8",
   "metadata": {},
   "source": [
    "就能避免搞混"
   ]
  },
  {
   "cell_type": "code",
   "execution_count": null,
   "id": "81889e54",
   "metadata": {},
   "outputs": [],
   "source": []
  }
 ],
 "metadata": {
  "kernelspec": {
   "display_name": "Python 3 (ipykernel)",
   "language": "python",
   "name": "python3"
  },
  "language_info": {
   "codemirror_mode": {
    "name": "ipython",
    "version": 3
   },
   "file_extension": ".py",
   "mimetype": "text/x-python",
   "name": "python",
   "nbconvert_exporter": "python",
   "pygments_lexer": "ipython3",
   "version": "3.9.7"
  }
 },
 "nbformat": 4,
 "nbformat_minor": 5
}
