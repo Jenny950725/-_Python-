{
 "cells": [
  {
   "cell_type": "code",
   "execution_count": 2,
   "id": "209d7b30",
   "metadata": {},
   "outputs": [
    {
     "name": "stdout",
     "output_type": "stream",
     "text": [
      "hey\n"
     ]
    }
   ],
   "source": [
    "a = 6\n",
    "if a < 11:\n",
    "    print(\"hey\")    "
   ]
  },
  {
   "cell_type": "code",
   "execution_count": 1,
   "id": "5077664a",
   "metadata": {},
   "outputs": [
    {
     "name": "stdout",
     "output_type": "stream",
     "text": [
      ">>我很開心\n",
      "真替你高興!\n"
     ]
    }
   ],
   "source": [
    "#改良拍拍機器人\n",
    "message = input(\">>\")\n",
    "\n",
    "if (\"悲傷\" in message):\n",
    "    print(\"拍拍\")\n",
    "elif (\"開心\" in message):\n",
    "    print(\"真替你高興!\")\n",
    "else:\n",
    "    print(\"我知道了\")"
   ]
  },
  {
   "cell_type": "code",
   "execution_count": 3,
   "id": "504dda3f",
   "metadata": {},
   "outputs": [
    {
     "name": "stdout",
     "output_type": "stream",
     "text": [
      ">>今天過得很平淡\n",
      "我知道了\n"
     ]
    }
   ],
   "source": [
    "#改良拍拍機器人\n",
    "message = input(\">>\")\n",
    "\n",
    "if (\"悲傷\" in message):\n",
    "    print(\"拍拍\")\n",
    "elif (\"開心\" in message):\n",
    "    print(\"真替你高興!\")\n",
    "else:\n",
    "    print(\"我知道了\")"
   ]
  },
  {
   "cell_type": "code",
   "execution_count": 4,
   "id": "030e391e",
   "metadata": {},
   "outputs": [
    {
     "name": "stdout",
     "output_type": "stream",
     "text": [
      ">>我很悲傷\n",
      "拍拍\n"
     ]
    }
   ],
   "source": [
    "#改良拍拍機器人\n",
    "message = input(\">>\")\n",
    "\n",
    "if (\"悲傷\" in message):\n",
    "    print(\"拍拍\")\n",
    "elif (\"開心\" in message):\n",
    "    print(\"真替你高興!\")\n",
    "else:\n",
    "    print(\"我知道了\")"
   ]
  }
 ],
 "metadata": {
  "kernelspec": {
   "display_name": "Python 3 (ipykernel)",
   "language": "python",
   "name": "python3"
  },
  "language_info": {
   "codemirror_mode": {
    "name": "ipython",
    "version": 3
   },
   "file_extension": ".py",
   "mimetype": "text/x-python",
   "name": "python",
   "nbconvert_exporter": "python",
   "pygments_lexer": "ipython3",
   "version": "3.9.7"
  }
 },
 "nbformat": 4,
 "nbformat_minor": 5
}
