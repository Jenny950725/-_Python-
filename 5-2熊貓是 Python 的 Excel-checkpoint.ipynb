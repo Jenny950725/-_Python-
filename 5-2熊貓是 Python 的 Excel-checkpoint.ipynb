{
 "cells": [
  {
   "cell_type": "code",
   "execution_count": 1,
   "id": "42d0bf9c",
   "metadata": {},
   "outputs": [],
   "source": [
    "%matplotlib inline\n",
    "import numpy as np\n",
    "import matplotlib.pyplot as plt"
   ]
  },
  {
   "cell_type": "code",
   "execution_count": 2,
   "id": "5fc8bc7c",
   "metadata": {},
   "outputs": [],
   "source": [
    "import pandas as pd"
   ]
  },
  {
   "cell_type": "markdown",
   "id": "0d37c9af",
   "metadata": {},
   "source": [
    "主要分成兩種:\n",
    "\n",
    "單維度的序列Series\n",
    "是一維列表值、帶有索引值的物件\n",
    "\n",
    "雙維度的資料框架dataframe\n",
    "Series物件的集合體，用列與欄的形式儲存資料\n",
    "\n",
    "https://www.youtube.com/watch?v=5QZqzKCDCQ4&list=PL-g0fdC5RMboYEyt6QS2iLb_1m7QcgfHk&index=25\n",
    "\n",
    "https://www.youtube.com/watch?v=175ZZC3Hr0Y&list=PL-g0fdC5RMboYEyt6QS2iLb_1m7QcgfHk&index=26\n",
    "\n",
    "https://www.youtube.com/watch?v=Krj-50BNo9E&list=PL-g0fdC5RMboYEyt6QS2iLb_1m7QcgfHk&index=27"
   ]
  },
  {
   "cell_type": "code",
   "execution_count": 3,
   "id": "c829dc9d",
   "metadata": {},
   "outputs": [],
   "source": [
    "data = pd.Series([\"您好\",\"我是\",\"高中生\"])"
   ]
  },
  {
   "cell_type": "markdown",
   "id": "cb205572",
   "metadata": {},
   "source": [
    "串接 可自訂符號"
   ]
  },
  {
   "cell_type": "code",
   "execution_count": 4,
   "id": "a7196e26",
   "metadata": {},
   "outputs": [
    {
     "data": {
      "text/plain": [
       "'您好,我是,高中生'"
      ]
     },
     "execution_count": 4,
     "metadata": {},
     "output_type": "execute_result"
    }
   ],
   "source": [
    "data.str.cat(sep=\",\")"
   ]
  },
  {
   "cell_type": "markdown",
   "id": "290130f0",
   "metadata": {},
   "source": [
    "搜尋 回傳布林值"
   ]
  },
  {
   "cell_type": "code",
   "execution_count": 5,
   "id": "b742ad87",
   "metadata": {},
   "outputs": [
    {
     "data": {
      "text/plain": [
       "0     True\n",
       "1    False\n",
       "2    False\n",
       "dtype: bool"
      ]
     },
     "execution_count": 5,
     "metadata": {},
     "output_type": "execute_result"
    }
   ],
   "source": [
    "data.str.contains(\"好\")"
   ]
  },
  {
   "cell_type": "markdown",
   "id": "00ad73b8",
   "metadata": {},
   "source": [
    "取代"
   ]
  },
  {
   "cell_type": "code",
   "execution_count": 6,
   "id": "e34f28ca",
   "metadata": {},
   "outputs": [
    {
     "data": {
      "text/plain": [
       "0    Hello\n",
       "1       我是\n",
       "2      高中生\n",
       "dtype: object"
      ]
     },
     "execution_count": 6,
     "metadata": {},
     "output_type": "execute_result"
    }
   ],
   "source": [
    "data.str.replace(\"您好\",\"Hello\")"
   ]
  },
  {
   "cell_type": "code",
   "execution_count": 7,
   "id": "27651e3f",
   "metadata": {},
   "outputs": [],
   "source": [
    "dataframe = pd.DataFrame({\"names\":[\"Bob\",\"Ivy\",\"Lou\"],\"age\":[12,16,18]},index=[\"a\",\"b\",\"c\"])"
   ]
  },
  {
   "cell_type": "code",
   "execution_count": 8,
   "id": "ab7bb514",
   "metadata": {},
   "outputs": [
    {
     "data": {
      "text/html": [
       "<div>\n",
       "<style scoped>\n",
       "    .dataframe tbody tr th:only-of-type {\n",
       "        vertical-align: middle;\n",
       "    }\n",
       "\n",
       "    .dataframe tbody tr th {\n",
       "        vertical-align: top;\n",
       "    }\n",
       "\n",
       "    .dataframe thead th {\n",
       "        text-align: right;\n",
       "    }\n",
       "</style>\n",
       "<table border=\"1\" class=\"dataframe\">\n",
       "  <thead>\n",
       "    <tr style=\"text-align: right;\">\n",
       "      <th></th>\n",
       "      <th>names</th>\n",
       "      <th>age</th>\n",
       "    </tr>\n",
       "  </thead>\n",
       "  <tbody>\n",
       "    <tr>\n",
       "      <th>a</th>\n",
       "      <td>Bob</td>\n",
       "      <td>12</td>\n",
       "    </tr>\n",
       "    <tr>\n",
       "      <th>b</th>\n",
       "      <td>Ivy</td>\n",
       "      <td>16</td>\n",
       "    </tr>\n",
       "    <tr>\n",
       "      <th>c</th>\n",
       "      <td>Lou</td>\n",
       "      <td>18</td>\n",
       "    </tr>\n",
       "  </tbody>\n",
       "</table>\n",
       "</div>"
      ],
      "text/plain": [
       "  names  age\n",
       "a   Bob   12\n",
       "b   Ivy   16\n",
       "c   Lou   18"
      ]
     },
     "execution_count": 8,
     "metadata": {},
     "output_type": "execute_result"
    }
   ],
   "source": [
    "dataframe"
   ]
  },
  {
   "cell_type": "code",
   "execution_count": 9,
   "id": "b9ecf188",
   "metadata": {},
   "outputs": [
    {
     "name": "stdout",
     "output_type": "stream",
     "text": [
      "6\n"
     ]
    }
   ],
   "source": [
    "print(dataframe.size)"
   ]
  },
  {
   "cell_type": "code",
   "execution_count": 10,
   "id": "7649b864",
   "metadata": {},
   "outputs": [
    {
     "name": "stdout",
     "output_type": "stream",
     "text": [
      "(3, 2)\n"
     ]
    }
   ],
   "source": [
    "print(dataframe.shape)  #(列,行)"
   ]
  },
  {
   "cell_type": "code",
   "execution_count": 11,
   "id": "aad24bf4",
   "metadata": {},
   "outputs": [
    {
     "data": {
      "text/plain": [
       "3"
      ]
     },
     "execution_count": 11,
     "metadata": {},
     "output_type": "execute_result"
    }
   ],
   "source": [
    "len(dataframe) #列"
   ]
  },
  {
   "cell_type": "code",
   "execution_count": 12,
   "id": "ebbd4350",
   "metadata": {},
   "outputs": [
    {
     "name": "stdout",
     "output_type": "stream",
     "text": [
      "Index(['a', 'b', 'c'], dtype='object')\n"
     ]
    }
   ],
   "source": [
    "print(dataframe.index)  #index屬性"
   ]
  },
  {
   "cell_type": "markdown",
   "id": "a57ed748",
   "metadata": {},
   "source": [
    "取一整列\n",
    "\n",
    "用數字.iloc\n",
    "\n",
    "0->第一列"
   ]
  },
  {
   "cell_type": "code",
   "execution_count": 13,
   "id": "16759706",
   "metadata": {},
   "outputs": [
    {
     "data": {
      "text/plain": [
       "names    Bob\n",
       "age       12\n",
       "Name: a, dtype: object"
      ]
     },
     "execution_count": 13,
     "metadata": {},
     "output_type": "execute_result"
    }
   ],
   "source": [
    "dataframe.iloc[0]  #取了第一列"
   ]
  },
  {
   "cell_type": "markdown",
   "id": "401a6f68",
   "metadata": {},
   "source": [
    "用索引  .loc"
   ]
  },
  {
   "cell_type": "code",
   "execution_count": 14,
   "id": "ab00b82f",
   "metadata": {},
   "outputs": [
    {
     "data": {
      "text/plain": [
       "names    Bob\n",
       "age       12\n",
       "Name: a, dtype: object"
      ]
     },
     "execution_count": 14,
     "metadata": {},
     "output_type": "execute_result"
    }
   ],
   "source": [
    "dataframe.loc[\"a\"]"
   ]
  },
  {
   "cell_type": "markdown",
   "id": "6bf66412",
   "metadata": {},
   "source": [
    "取一整欄"
   ]
  },
  {
   "cell_type": "code",
   "execution_count": 15,
   "id": "2d45060c",
   "metadata": {},
   "outputs": [
    {
     "data": {
      "text/plain": [
       "a    Bob\n",
       "b    Ivy\n",
       "c    Lou\n",
       "Name: names, dtype: object"
      ]
     },
     "execution_count": 15,
     "metadata": {},
     "output_type": "execute_result"
    }
   ],
   "source": [
    "dataframe[\"names\"]"
   ]
  },
  {
   "cell_type": "markdown",
   "id": "b92c7bf4",
   "metadata": {},
   "source": [
    "取一列或一欄\n",
    "出來都會是Series的形式"
   ]
  },
  {
   "cell_type": "code",
   "execution_count": 16,
   "id": "86d1a6fe",
   "metadata": {},
   "outputs": [
    {
     "data": {
      "text/plain": [
       "pandas.core.series.Series"
      ]
     },
     "execution_count": 16,
     "metadata": {},
     "output_type": "execute_result"
    }
   ],
   "source": [
    "type(dataframe[\"names\"])"
   ]
  },
  {
   "cell_type": "markdown",
   "id": "b246ed5a",
   "metadata": {},
   "source": [
    "建立新欄位"
   ]
  },
  {
   "cell_type": "markdown",
   "id": "c8fd48ab",
   "metadata": {},
   "source": [
    "data[\"新欄位名稱\"] = 列表資料(list)"
   ]
  },
  {
   "cell_type": "code",
   "execution_count": 17,
   "id": "d513cb59",
   "metadata": {},
   "outputs": [],
   "source": [
    "dataframe[\"talents\"] = [\"Piano\",\"tennis\",\"badminton\"]"
   ]
  },
  {
   "cell_type": "code",
   "execution_count": 18,
   "id": "91718cdf",
   "metadata": {},
   "outputs": [
    {
     "data": {
      "text/html": [
       "<div>\n",
       "<style scoped>\n",
       "    .dataframe tbody tr th:only-of-type {\n",
       "        vertical-align: middle;\n",
       "    }\n",
       "\n",
       "    .dataframe tbody tr th {\n",
       "        vertical-align: top;\n",
       "    }\n",
       "\n",
       "    .dataframe thead th {\n",
       "        text-align: right;\n",
       "    }\n",
       "</style>\n",
       "<table border=\"1\" class=\"dataframe\">\n",
       "  <thead>\n",
       "    <tr style=\"text-align: right;\">\n",
       "      <th></th>\n",
       "      <th>names</th>\n",
       "      <th>age</th>\n",
       "      <th>talents</th>\n",
       "    </tr>\n",
       "  </thead>\n",
       "  <tbody>\n",
       "    <tr>\n",
       "      <th>a</th>\n",
       "      <td>Bob</td>\n",
       "      <td>12</td>\n",
       "      <td>Piano</td>\n",
       "    </tr>\n",
       "    <tr>\n",
       "      <th>b</th>\n",
       "      <td>Ivy</td>\n",
       "      <td>16</td>\n",
       "      <td>tennis</td>\n",
       "    </tr>\n",
       "    <tr>\n",
       "      <th>c</th>\n",
       "      <td>Lou</td>\n",
       "      <td>18</td>\n",
       "      <td>badminton</td>\n",
       "    </tr>\n",
       "  </tbody>\n",
       "</table>\n",
       "</div>"
      ],
      "text/plain": [
       "  names  age    talents\n",
       "a   Bob   12      Piano\n",
       "b   Ivy   16     tennis\n",
       "c   Lou   18  badminton"
      ]
     },
     "execution_count": 18,
     "metadata": {},
     "output_type": "execute_result"
    }
   ],
   "source": [
    "dataframe"
   ]
  },
  {
   "cell_type": "markdown",
   "id": "e3b7a5bf",
   "metadata": {},
   "source": [
    "data[\"新欄位資料\"] = Series型態資料\n",
    "\n",
    "記得要給index"
   ]
  },
  {
   "cell_type": "code",
   "execution_count": 19,
   "id": "5a9093b6",
   "metadata": {},
   "outputs": [],
   "source": [
    "dataframe[\"gender\"] = pd.Series([\"male\",\"female\",\"female\"],index=[\"a\",\"b\",\"c\"])"
   ]
  },
  {
   "cell_type": "code",
   "execution_count": 20,
   "id": "6fbe52f7",
   "metadata": {},
   "outputs": [
    {
     "data": {
      "text/html": [
       "<div>\n",
       "<style scoped>\n",
       "    .dataframe tbody tr th:only-of-type {\n",
       "        vertical-align: middle;\n",
       "    }\n",
       "\n",
       "    .dataframe tbody tr th {\n",
       "        vertical-align: top;\n",
       "    }\n",
       "\n",
       "    .dataframe thead th {\n",
       "        text-align: right;\n",
       "    }\n",
       "</style>\n",
       "<table border=\"1\" class=\"dataframe\">\n",
       "  <thead>\n",
       "    <tr style=\"text-align: right;\">\n",
       "      <th></th>\n",
       "      <th>names</th>\n",
       "      <th>age</th>\n",
       "      <th>talents</th>\n",
       "      <th>gender</th>\n",
       "    </tr>\n",
       "  </thead>\n",
       "  <tbody>\n",
       "    <tr>\n",
       "      <th>a</th>\n",
       "      <td>Bob</td>\n",
       "      <td>12</td>\n",
       "      <td>Piano</td>\n",
       "      <td>male</td>\n",
       "    </tr>\n",
       "    <tr>\n",
       "      <th>b</th>\n",
       "      <td>Ivy</td>\n",
       "      <td>16</td>\n",
       "      <td>tennis</td>\n",
       "      <td>female</td>\n",
       "    </tr>\n",
       "    <tr>\n",
       "      <th>c</th>\n",
       "      <td>Lou</td>\n",
       "      <td>18</td>\n",
       "      <td>badminton</td>\n",
       "      <td>female</td>\n",
       "    </tr>\n",
       "  </tbody>\n",
       "</table>\n",
       "</div>"
      ],
      "text/plain": [
       "  names  age    talents  gender\n",
       "a   Bob   12      Piano    male\n",
       "b   Ivy   16     tennis  female\n",
       "c   Lou   18  badminton  female"
      ]
     },
     "execution_count": 20,
     "metadata": {},
     "output_type": "execute_result"
    }
   ],
   "source": [
    "dataframe"
   ]
  },
  {
   "cell_type": "markdown",
   "id": "ecfacd40",
   "metadata": {},
   "source": [
    "index不一定要照順序"
   ]
  },
  {
   "cell_type": "code",
   "execution_count": 21,
   "id": "c32076ad",
   "metadata": {},
   "outputs": [],
   "source": [
    "dataframe[\"grades\"] = pd.Series([\"Great\",\"Good\",\"Normal\"],index=[\"a\",\"c\",\"b\"])"
   ]
  },
  {
   "cell_type": "code",
   "execution_count": 22,
   "id": "c219303d",
   "metadata": {},
   "outputs": [
    {
     "data": {
      "text/html": [
       "<div>\n",
       "<style scoped>\n",
       "    .dataframe tbody tr th:only-of-type {\n",
       "        vertical-align: middle;\n",
       "    }\n",
       "\n",
       "    .dataframe tbody tr th {\n",
       "        vertical-align: top;\n",
       "    }\n",
       "\n",
       "    .dataframe thead th {\n",
       "        text-align: right;\n",
       "    }\n",
       "</style>\n",
       "<table border=\"1\" class=\"dataframe\">\n",
       "  <thead>\n",
       "    <tr style=\"text-align: right;\">\n",
       "      <th></th>\n",
       "      <th>names</th>\n",
       "      <th>age</th>\n",
       "      <th>talents</th>\n",
       "      <th>gender</th>\n",
       "      <th>grades</th>\n",
       "    </tr>\n",
       "  </thead>\n",
       "  <tbody>\n",
       "    <tr>\n",
       "      <th>a</th>\n",
       "      <td>Bob</td>\n",
       "      <td>12</td>\n",
       "      <td>Piano</td>\n",
       "      <td>male</td>\n",
       "      <td>Great</td>\n",
       "    </tr>\n",
       "    <tr>\n",
       "      <th>b</th>\n",
       "      <td>Ivy</td>\n",
       "      <td>16</td>\n",
       "      <td>tennis</td>\n",
       "      <td>female</td>\n",
       "      <td>Normal</td>\n",
       "    </tr>\n",
       "    <tr>\n",
       "      <th>c</th>\n",
       "      <td>Lou</td>\n",
       "      <td>18</td>\n",
       "      <td>badminton</td>\n",
       "      <td>female</td>\n",
       "      <td>Good</td>\n",
       "    </tr>\n",
       "  </tbody>\n",
       "</table>\n",
       "</div>"
      ],
      "text/plain": [
       "  names  age    talents  gender  grades\n",
       "a   Bob   12      Piano    male   Great\n",
       "b   Ivy   16     tennis  female  Normal\n",
       "c   Lou   18  badminton  female    Good"
      ]
     },
     "execution_count": 22,
     "metadata": {},
     "output_type": "execute_result"
    }
   ],
   "source": [
    "dataframe"
   ]
  },
  {
   "cell_type": "markdown",
   "id": "e734cbe4",
   "metadata": {},
   "source": [
    "計算特定欄位的資料筆數"
   ]
  },
  {
   "cell_type": "code",
   "execution_count": 23,
   "id": "65ceb0d9",
   "metadata": {},
   "outputs": [
    {
     "data": {
      "text/plain": [
       "female    2\n",
       "male      1\n",
       "Name: gender, dtype: int64"
      ]
     },
     "execution_count": 23,
     "metadata": {},
     "output_type": "execute_result"
    }
   ],
   "source": [
    "dataframe[\"gender\"].value_counts()"
   ]
  },
  {
   "cell_type": "markdown",
   "id": "d0d24bf2",
   "metadata": {},
   "source": [
    "計算欄位特殊元素"
   ]
  },
  {
   "cell_type": "code",
   "execution_count": 24,
   "id": "8eeeedf0",
   "metadata": {},
   "outputs": [
    {
     "data": {
      "text/plain": [
       "3"
      ]
     },
     "execution_count": 24,
     "metadata": {},
     "output_type": "execute_result"
    }
   ],
   "source": [
    "dataframe[\"talents\"].nunique()"
   ]
  },
  {
   "cell_type": "code",
   "execution_count": 25,
   "id": "1817b29c",
   "metadata": {},
   "outputs": [
    {
     "data": {
      "text/plain": [
       "2"
      ]
     },
     "execution_count": 25,
     "metadata": {},
     "output_type": "execute_result"
    }
   ],
   "source": [
    "dataframe[\"gender\"].nunique()"
   ]
  },
  {
   "cell_type": "code",
   "execution_count": 26,
   "id": "48b20794",
   "metadata": {},
   "outputs": [
    {
     "name": "stdout",
     "output_type": "stream",
     "text": [
      " 磁碟區 C 中的磁碟是 Windows\n",
      " 磁碟區序號:  7899-9C91\n",
      "\n",
      " C:\\Users\\User\\高一下自主學習 的目錄\n",
      "\n",
      "2022/05/31  下午 03:10    <DIR>          .\n",
      "2022/05/28  下午 09:36    <DIR>          ..\n",
      "2022/05/29  上午 11:25    <DIR>          .ipynb_checkpoints\n",
      "2022/05/29  上午 11:16         1,285,437 11010-11012毒品案件資料.csv\n",
      "2022/05/16  下午 07:30             4,282 1-3把 Python 當計算機用.ipynb\n",
      "2022/05/16  下午 07:35            64,649 1-4魔術指令 %pylab inline.ipynb\n",
      "2022/05/21  下午 05:27             2,431 1-5用markdown作筆記.ipynb\n",
      "2022/05/16  下午 07:48             3,463 1-6變數好好用.ipynb\n",
      "2022/05/16  下午 07:55            18,030 1-7List是數據分析第一步.ipynb\n",
      "2022/05/16  下午 08:06             6,340 1-8input.ipynb\n",
      "2022/05/16  下午 07:58             6,433 1-8字串與HelloWorld.ipynb\n",
      "2022/05/16  下午 08:07             5,259 2-02條件判斷.ipynb\n",
      "2022/05/16  下午 08:16             3,140 2-03迴圈.ipynb\n",
      "2022/05/16  下午 08:16           167,433 2-04字串格式化.ipynb\n",
      "2022/05/16  下午 08:16             2,962 2-05函數.ipynb\n",
      "2022/05/16  下午 08:17             1,455 2-06函數練習.ipynb\n",
      "2022/05/16  下午 08:31           575,822 2-07List 的切割.ipynb\n",
      "2022/05/16  下午 08:31             2,541 2-08很像List 的字串切割.ipynb\n",
      "2022/05/16  下午 08:33             1,931 2-09List 的快速生成法.ipynb\n",
      "2022/05/16  下午 08:34             2,029 2-10for迴圈.ipynb\n",
      "2022/05/16  下午 08:34             3,607 2-11keyword找關鍵字.ipynb\n",
      "2022/05/16  下午 08:34             2,409 2-12if條件判斷.ipynb\n",
      "2022/05/16  下午 08:47             2,550 2-13亂數小遊戲.ipynb\n",
      "2022/05/16  下午 08:48             5,288 3-02正規讀套件的方法之一.ipynb\n",
      "2022/05/16  下午 08:48             4,017 3-03正規讀套件的方法之二.ipynb\n",
      "2022/05/16  下午 08:48            53,326 3-04數據分析的標準動作.ipynb\n",
      "2022/05/16  下午 09:01             1,675 3-05處理一整個 list 的數字.ipynb\n",
      "2022/05/16  下午 09:01             3,165 3-06 Array 真是太炫了.ipynb\n",
      "2022/05/16  下午 09:01             2,953 3-07用 Array 算成績（加權和）.ipynb\n",
      "2022/05/16  下午 09:02             1,721 3-08算全班成績（Python 的 broadcasting）.ipynb\n",
      "2022/05/16  下午 09:02            12,177 3-09Array 大變身.ipynb\n",
      "2022/05/16  下午 09:02             5,471 3-10Array 的快速生成法.ipynb\n",
      "2022/05/16  下午 09:10            79,212 3-11Array 畫圖超方便.ipynb\n",
      "2022/05/31  下午 03:00            39,406 3-12Array 快篩法.ipynb\n",
      "2022/05/16  下午 09:25           456,851 4-2字典資料型態.ipynb\n",
      "2022/05/31  下午 03:08             6,328 4-3超炫的互動功能之一.ipynb\n",
      "2022/05/31  下午 03:07             3,025 4-4超炫的互動功能之二.ipynb\n",
      "2022/05/17  下午 02:42             2,404 4-5互動應用範例.ipynb\n",
      "2022/05/17  下午 02:42           243,289 4-6圖形的互動之一.ipynb\n",
      "2022/05/17  下午 02:43            11,527 4-7圖形的互動之 over fitting.ipynb\n",
      "2022/05/17  下午 02:43             3,842 4-8互動範例BMI計算器.ipynb\n",
      "2022/05/28  下午 05:13            72,607 5-2熊貓是 Python 的 Excel.ipynb\n",
      "2022/05/17  下午 03:27            63,999 5-3用熊貓做基本數據分析.ipynb\n",
      "2022/05/25  下午 10:12            19,176 5-4組裝自己的 DataFrame.ipynb\n",
      "2022/05/28  下午 05:18            34,924 5-5用 Groupby 找到美國最常目擊 UFO 的州.ipynb\n",
      "2022/05/17  下午 04:28            14,886 5-6Pandas 的 loc 定位法.ipynb\n",
      "2022/05/19  下午 09:12           745,001 5-7玩玩真的股票資料.ipynb\n",
      "2022/05/21  下午 06:59            55,991 6-3模擬線性迴歸的數據、6-4假的資料真的迴歸.ipynb\n",
      "2022/05/21  下午 08:50           138,402 6-5過度擬合overfitting.ipynb\n",
      "2022/05/22  下午 01:54           413,616 6-6訓練資料和測試資料.ipynb\n",
      "2022/05/26  上午 10:33         1,299,968 6-7用線性迴歸預測波士頓房價、6-8畫出各 feature 和輸出關係.ipynb\n",
      "2022/05/24  下午 10:21         2,185,079 7-2分類資料的準備、7-3SVM做分類、7-4完整畫出我們的分類結果.ipynb\n",
      "2022/05/25  下午 09:49            92,410 7-5真實世界的數據_做鳶尾花的分類、7-6很酷的分類畫圖 contourf.ipynb\n",
      "2022/05/25  下午 10:26           104,139 7-7用 KMeans 自動分類.ipynb\n",
      "2022/05/31  下午 03:10            11,340 air.csv\n",
      "2022/05/26  下午 07:55             3,063 array可以各項相乘.ipynb\n",
      "2022/05/29  下午 04:34             6,164 book_image.jpeg\n",
      "2022/05/26  下午 03:13         1,360,155 googleplaystore.csv\n",
      "2022/05/29  上午 11:00           255,214 Python Pandas 資料分析 - Google Play Store 資料集.ipynb\n",
      "2022/05/28  下午 05:25    <DIR>          Python視覺化可視攻略\n",
      "2022/05/30  上午 10:27           663,497 文字雲_英文.ipynb\n",
      "2022/05/30  上午 10:49           189,936 視覺化_直方圖_小費.ipynb\n",
      "2022/05/26  上午 10:20           117,730 糖尿病_regression.ipynb\n",
      "              59 個檔案      10,945,177 位元組\n",
      "               4 個目錄  41,639,415,808 位元組可用\n"
     ]
    }
   ],
   "source": [
    "%ls"
   ]
  },
  {
   "cell_type": "markdown",
   "id": "459b851f",
   "metadata": {},
   "source": [
    "讀CSV檔  pd.read_csv(\"CSV檔名\")\n",
    "\n",
    "用一個變數去存他 data frame(df)"
   ]
  },
  {
   "cell_type": "code",
   "execution_count": 27,
   "id": "f9450e18",
   "metadata": {},
   "outputs": [],
   "source": [
    "df2 = pd.read_csv(\"air.csv\")"
   ]
  },
  {
   "cell_type": "code",
   "execution_count": 28,
   "id": "1854fc7a",
   "metadata": {
    "scrolled": false
   },
   "outputs": [
    {
     "data": {
      "text/html": [
       "<div>\n",
       "<style scoped>\n",
       "    .dataframe tbody tr th:only-of-type {\n",
       "        vertical-align: middle;\n",
       "    }\n",
       "\n",
       "    .dataframe tbody tr th {\n",
       "        vertical-align: top;\n",
       "    }\n",
       "\n",
       "    .dataframe thead th {\n",
       "        text-align: right;\n",
       "    }\n",
       "</style>\n",
       "<table border=\"1\" class=\"dataframe\">\n",
       "  <thead>\n",
       "    <tr style=\"text-align: right;\">\n",
       "      <th></th>\n",
       "      <th>SiteName</th>\n",
       "      <th>County</th>\n",
       "      <th>AQI</th>\n",
       "      <th>Pollutant</th>\n",
       "      <th>Status</th>\n",
       "      <th>SO2</th>\n",
       "      <th>CO</th>\n",
       "      <th>CO_8hr</th>\n",
       "      <th>O3</th>\n",
       "      <th>O3_8hr</th>\n",
       "      <th>...</th>\n",
       "      <th>NO</th>\n",
       "      <th>WIND_SPEED</th>\n",
       "      <th>WIND_DIREC</th>\n",
       "      <th>PublishTime</th>\n",
       "      <th>PM2.5_AVG</th>\n",
       "      <th>PM10_AVG</th>\n",
       "      <th>SO2_AVG</th>\n",
       "      <th>Longitude</th>\n",
       "      <th>Latitude</th>\n",
       "      <th>SiteId</th>\n",
       "    </tr>\n",
       "  </thead>\n",
       "  <tbody>\n",
       "    <tr>\n",
       "      <th>0</th>\n",
       "      <td>基隆</td>\n",
       "      <td>基隆市</td>\n",
       "      <td>84</td>\n",
       "      <td>臭氧八小時</td>\n",
       "      <td>普通</td>\n",
       "      <td>1.6</td>\n",
       "      <td>0.35</td>\n",
       "      <td>0.3</td>\n",
       "      <td>57.1</td>\n",
       "      <td>65</td>\n",
       "      <td>...</td>\n",
       "      <td>0.4</td>\n",
       "      <td>0.5</td>\n",
       "      <td>328</td>\n",
       "      <td>2022/04/23 19:00:00</td>\n",
       "      <td>22</td>\n",
       "      <td>31</td>\n",
       "      <td>1.0</td>\n",
       "      <td>121.760056</td>\n",
       "      <td>25.129167</td>\n",
       "      <td>1</td>\n",
       "    </tr>\n",
       "    <tr>\n",
       "      <th>1</th>\n",
       "      <td>汐止</td>\n",
       "      <td>新北市</td>\n",
       "      <td>75</td>\n",
       "      <td>細懸浮微粒</td>\n",
       "      <td>普通</td>\n",
       "      <td>2.5</td>\n",
       "      <td>0.35</td>\n",
       "      <td>0.3</td>\n",
       "      <td>52.8</td>\n",
       "      <td>60</td>\n",
       "      <td>...</td>\n",
       "      <td>0.7</td>\n",
       "      <td>2</td>\n",
       "      <td>16</td>\n",
       "      <td>2022/04/23 19:00:00</td>\n",
       "      <td>25</td>\n",
       "      <td>38</td>\n",
       "      <td>2.0</td>\n",
       "      <td>121.642300</td>\n",
       "      <td>25.067131</td>\n",
       "      <td>2</td>\n",
       "    </tr>\n",
       "    <tr>\n",
       "      <th>2</th>\n",
       "      <td>萬里</td>\n",
       "      <td>新北市</td>\n",
       "      <td>90</td>\n",
       "      <td>臭氧八小時</td>\n",
       "      <td>普通</td>\n",
       "      <td>1.6</td>\n",
       "      <td>0.28</td>\n",
       "      <td>0.3</td>\n",
       "      <td>52.6</td>\n",
       "      <td>67</td>\n",
       "      <td>...</td>\n",
       "      <td>1.0</td>\n",
       "      <td>0.3</td>\n",
       "      <td>221</td>\n",
       "      <td>2022/04/23 19:00:00</td>\n",
       "      <td>20</td>\n",
       "      <td>29</td>\n",
       "      <td>1.0</td>\n",
       "      <td>121.689881</td>\n",
       "      <td>25.179667</td>\n",
       "      <td>3</td>\n",
       "    </tr>\n",
       "    <tr>\n",
       "      <th>3</th>\n",
       "      <td>新店</td>\n",
       "      <td>新北市</td>\n",
       "      <td>62</td>\n",
       "      <td>細懸浮微粒</td>\n",
       "      <td>普通</td>\n",
       "      <td>2.4</td>\n",
       "      <td>0.54</td>\n",
       "      <td>0.4</td>\n",
       "      <td>25.5</td>\n",
       "      <td>54</td>\n",
       "      <td>...</td>\n",
       "      <td>0.7</td>\n",
       "      <td>1</td>\n",
       "      <td>12</td>\n",
       "      <td>2022/04/23 19:00:00</td>\n",
       "      <td>19</td>\n",
       "      <td>33</td>\n",
       "      <td>1.0</td>\n",
       "      <td>121.537778</td>\n",
       "      <td>24.977222</td>\n",
       "      <td>4</td>\n",
       "    </tr>\n",
       "    <tr>\n",
       "      <th>4</th>\n",
       "      <td>土城</td>\n",
       "      <td>新北市</td>\n",
       "      <td>67</td>\n",
       "      <td>細懸浮微粒</td>\n",
       "      <td>普通</td>\n",
       "      <td>2.5</td>\n",
       "      <td>0.56</td>\n",
       "      <td>0.3</td>\n",
       "      <td>22.1</td>\n",
       "      <td>49</td>\n",
       "      <td>...</td>\n",
       "      <td>1.3</td>\n",
       "      <td>0.8</td>\n",
       "      <td>164</td>\n",
       "      <td>2022/04/23 19:00:00</td>\n",
       "      <td>22</td>\n",
       "      <td>32</td>\n",
       "      <td>1.0</td>\n",
       "      <td>121.451861</td>\n",
       "      <td>24.982528</td>\n",
       "      <td>5</td>\n",
       "    </tr>\n",
       "    <tr>\n",
       "      <th>...</th>\n",
       "      <td>...</td>\n",
       "      <td>...</td>\n",
       "      <td>...</td>\n",
       "      <td>...</td>\n",
       "      <td>...</td>\n",
       "      <td>...</td>\n",
       "      <td>...</td>\n",
       "      <td>...</td>\n",
       "      <td>...</td>\n",
       "      <td>...</td>\n",
       "      <td>...</td>\n",
       "      <td>...</td>\n",
       "      <td>...</td>\n",
       "      <td>...</td>\n",
       "      <td>...</td>\n",
       "      <td>...</td>\n",
       "      <td>...</td>\n",
       "      <td>...</td>\n",
       "      <td>...</td>\n",
       "      <td>...</td>\n",
       "      <td>...</td>\n",
       "    </tr>\n",
       "    <tr>\n",
       "      <th>80</th>\n",
       "      <td>屏東(琉球)</td>\n",
       "      <td>屏東縣</td>\n",
       "      <td>28</td>\n",
       "      <td>NaN</td>\n",
       "      <td>良好</td>\n",
       "      <td>0.9</td>\n",
       "      <td>0.09</td>\n",
       "      <td>0</td>\n",
       "      <td>16.2</td>\n",
       "      <td>14</td>\n",
       "      <td>...</td>\n",
       "      <td>0.8</td>\n",
       "      <td>0.3</td>\n",
       "      <td>181</td>\n",
       "      <td>2022/04/23 19:00:00</td>\n",
       "      <td>8</td>\n",
       "      <td>21</td>\n",
       "      <td>0.0</td>\n",
       "      <td>120.377220</td>\n",
       "      <td>22.352220</td>\n",
       "      <td>204</td>\n",
       "    </tr>\n",
       "    <tr>\n",
       "      <th>81</th>\n",
       "      <td>桃園(三民)</td>\n",
       "      <td>桃園市</td>\n",
       "      <td>55</td>\n",
       "      <td>細懸浮微粒</td>\n",
       "      <td>普通</td>\n",
       "      <td>1.7</td>\n",
       "      <td>0.99</td>\n",
       "      <td>0.7</td>\n",
       "      <td>13.4</td>\n",
       "      <td>17</td>\n",
       "      <td>...</td>\n",
       "      <td>13.6</td>\n",
       "      <td>0.1</td>\n",
       "      <td>288</td>\n",
       "      <td>2022/04/23 19:00:00</td>\n",
       "      <td>17</td>\n",
       "      <td>34</td>\n",
       "      <td>4.0</td>\n",
       "      <td>121.318208</td>\n",
       "      <td>25.001219</td>\n",
       "      <td>310</td>\n",
       "    </tr>\n",
       "    <tr>\n",
       "      <th>82</th>\n",
       "      <td>新北(樹林)</td>\n",
       "      <td>新北市</td>\n",
       "      <td>52</td>\n",
       "      <td>細懸浮微粒</td>\n",
       "      <td>普通</td>\n",
       "      <td>2.0</td>\n",
       "      <td>0.33</td>\n",
       "      <td>0.3</td>\n",
       "      <td>19.5</td>\n",
       "      <td>33</td>\n",
       "      <td>...</td>\n",
       "      <td>1.0</td>\n",
       "      <td>0.1</td>\n",
       "      <td>102</td>\n",
       "      <td>2022/04/23 19:00:00</td>\n",
       "      <td>16</td>\n",
       "      <td>27</td>\n",
       "      <td>1.0</td>\n",
       "      <td>121.383528</td>\n",
       "      <td>24.949028</td>\n",
       "      <td>311</td>\n",
       "    </tr>\n",
       "    <tr>\n",
       "      <th>83</th>\n",
       "      <td>臺南(學甲)</td>\n",
       "      <td>臺南市</td>\n",
       "      <td>17</td>\n",
       "      <td>NaN</td>\n",
       "      <td>良好</td>\n",
       "      <td>0.7</td>\n",
       "      <td>0.3</td>\n",
       "      <td>0.2</td>\n",
       "      <td>13.3</td>\n",
       "      <td>15</td>\n",
       "      <td>...</td>\n",
       "      <td>3.5</td>\n",
       "      <td>0.8</td>\n",
       "      <td>214</td>\n",
       "      <td>2022/04/23 19:00:00</td>\n",
       "      <td>5</td>\n",
       "      <td>16</td>\n",
       "      <td>0.0</td>\n",
       "      <td>120.183397</td>\n",
       "      <td>23.236881</td>\n",
       "      <td>312</td>\n",
       "    </tr>\n",
       "    <tr>\n",
       "      <th>84</th>\n",
       "      <td>屏東(枋寮)</td>\n",
       "      <td>屏東縣</td>\n",
       "      <td>39</td>\n",
       "      <td>NaN</td>\n",
       "      <td>良好</td>\n",
       "      <td>0.3</td>\n",
       "      <td>0.15</td>\n",
       "      <td>0.1</td>\n",
       "      <td>15.1</td>\n",
       "      <td>14</td>\n",
       "      <td>...</td>\n",
       "      <td>0.2</td>\n",
       "      <td>0.1</td>\n",
       "      <td>71</td>\n",
       "      <td>2022/04/23 19:00:00</td>\n",
       "      <td>12</td>\n",
       "      <td>28</td>\n",
       "      <td>0.0</td>\n",
       "      <td>120.590369</td>\n",
       "      <td>22.384742</td>\n",
       "      <td>313</td>\n",
       "    </tr>\n",
       "  </tbody>\n",
       "</table>\n",
       "<p>85 rows × 24 columns</p>\n",
       "</div>"
      ],
      "text/plain": [
       "   SiteName County  AQI Pollutant Status  SO2    CO CO_8hr    O3  O3_8hr  ...  \\\n",
       "0        基隆    基隆市   84     臭氧八小時     普通  1.6  0.35    0.3  57.1      65  ...   \n",
       "1        汐止    新北市   75     細懸浮微粒     普通  2.5  0.35    0.3  52.8      60  ...   \n",
       "2        萬里    新北市   90     臭氧八小時     普通  1.6  0.28    0.3  52.6      67  ...   \n",
       "3        新店    新北市   62     細懸浮微粒     普通  2.4  0.54    0.4  25.5      54  ...   \n",
       "4        土城    新北市   67     細懸浮微粒     普通  2.5  0.56    0.3  22.1      49  ...   \n",
       "..      ...    ...  ...       ...    ...  ...   ...    ...   ...     ...  ...   \n",
       "80   屏東(琉球)    屏東縣   28       NaN     良好  0.9  0.09      0  16.2      14  ...   \n",
       "81   桃園(三民)    桃園市   55     細懸浮微粒     普通  1.7  0.99    0.7  13.4      17  ...   \n",
       "82   新北(樹林)    新北市   52     細懸浮微粒     普通  2.0  0.33    0.3  19.5      33  ...   \n",
       "83   臺南(學甲)    臺南市   17       NaN     良好  0.7   0.3    0.2  13.3      15  ...   \n",
       "84   屏東(枋寮)    屏東縣   39       NaN     良好  0.3  0.15    0.1  15.1      14  ...   \n",
       "\n",
       "      NO  WIND_SPEED  WIND_DIREC          PublishTime  PM2.5_AVG PM10_AVG  \\\n",
       "0    0.4         0.5         328  2022/04/23 19:00:00         22       31   \n",
       "1    0.7           2          16  2022/04/23 19:00:00         25       38   \n",
       "2    1.0         0.3         221  2022/04/23 19:00:00         20       29   \n",
       "3    0.7           1          12  2022/04/23 19:00:00         19       33   \n",
       "4    1.3         0.8         164  2022/04/23 19:00:00         22       32   \n",
       "..   ...         ...         ...                  ...        ...      ...   \n",
       "80   0.8         0.3         181  2022/04/23 19:00:00          8       21   \n",
       "81  13.6         0.1         288  2022/04/23 19:00:00         17       34   \n",
       "82   1.0         0.1         102  2022/04/23 19:00:00         16       27   \n",
       "83   3.5         0.8         214  2022/04/23 19:00:00          5       16   \n",
       "84   0.2         0.1          71  2022/04/23 19:00:00         12       28   \n",
       "\n",
       "   SO2_AVG   Longitude   Latitude  SiteId  \n",
       "0      1.0  121.760056  25.129167       1  \n",
       "1      2.0  121.642300  25.067131       2  \n",
       "2      1.0  121.689881  25.179667       3  \n",
       "3      1.0  121.537778  24.977222       4  \n",
       "4      1.0  121.451861  24.982528       5  \n",
       "..     ...         ...        ...     ...  \n",
       "80     0.0  120.377220  22.352220     204  \n",
       "81     4.0  121.318208  25.001219     310  \n",
       "82     1.0  121.383528  24.949028     311  \n",
       "83     0.0  120.183397  23.236881     312  \n",
       "84     0.0  120.590369  22.384742     313  \n",
       "\n",
       "[85 rows x 24 columns]"
      ]
     },
     "execution_count": 28,
     "metadata": {},
     "output_type": "execute_result"
    }
   ],
   "source": [
    "df2"
   ]
  },
  {
   "cell_type": "markdown",
   "id": "f2f79f61",
   "metadata": {},
   "source": [
    "看前幾個資料"
   ]
  },
  {
   "cell_type": "code",
   "execution_count": 29,
   "id": "5e13008a",
   "metadata": {},
   "outputs": [
    {
     "data": {
      "text/plain": [
       "<bound method NDFrame.head of    SiteName County  AQI Pollutant Status  SO2    CO CO_8hr    O3  O3_8hr  ...  \\\n",
       "0        基隆    基隆市   84     臭氧八小時     普通  1.6  0.35    0.3  57.1      65  ...   \n",
       "1        汐止    新北市   75     細懸浮微粒     普通  2.5  0.35    0.3  52.8      60  ...   \n",
       "2        萬里    新北市   90     臭氧八小時     普通  1.6  0.28    0.3  52.6      67  ...   \n",
       "3        新店    新北市   62     細懸浮微粒     普通  2.4  0.54    0.4  25.5      54  ...   \n",
       "4        土城    新北市   67     細懸浮微粒     普通  2.5  0.56    0.3  22.1      49  ...   \n",
       "..      ...    ...  ...       ...    ...  ...   ...    ...   ...     ...  ...   \n",
       "80   屏東(琉球)    屏東縣   28       NaN     良好  0.9  0.09      0  16.2      14  ...   \n",
       "81   桃園(三民)    桃園市   55     細懸浮微粒     普通  1.7  0.99    0.7  13.4      17  ...   \n",
       "82   新北(樹林)    新北市   52     細懸浮微粒     普通  2.0  0.33    0.3  19.5      33  ...   \n",
       "83   臺南(學甲)    臺南市   17       NaN     良好  0.7   0.3    0.2  13.3      15  ...   \n",
       "84   屏東(枋寮)    屏東縣   39       NaN     良好  0.3  0.15    0.1  15.1      14  ...   \n",
       "\n",
       "      NO  WIND_SPEED  WIND_DIREC          PublishTime  PM2.5_AVG PM10_AVG  \\\n",
       "0    0.4         0.5         328  2022/04/23 19:00:00         22       31   \n",
       "1    0.7           2          16  2022/04/23 19:00:00         25       38   \n",
       "2    1.0         0.3         221  2022/04/23 19:00:00         20       29   \n",
       "3    0.7           1          12  2022/04/23 19:00:00         19       33   \n",
       "4    1.3         0.8         164  2022/04/23 19:00:00         22       32   \n",
       "..   ...         ...         ...                  ...        ...      ...   \n",
       "80   0.8         0.3         181  2022/04/23 19:00:00          8       21   \n",
       "81  13.6         0.1         288  2022/04/23 19:00:00         17       34   \n",
       "82   1.0         0.1         102  2022/04/23 19:00:00         16       27   \n",
       "83   3.5         0.8         214  2022/04/23 19:00:00          5       16   \n",
       "84   0.2         0.1          71  2022/04/23 19:00:00         12       28   \n",
       "\n",
       "   SO2_AVG   Longitude   Latitude  SiteId  \n",
       "0      1.0  121.760056  25.129167       1  \n",
       "1      2.0  121.642300  25.067131       2  \n",
       "2      1.0  121.689881  25.179667       3  \n",
       "3      1.0  121.537778  24.977222       4  \n",
       "4      1.0  121.451861  24.982528       5  \n",
       "..     ...         ...        ...     ...  \n",
       "80     0.0  120.377220  22.352220     204  \n",
       "81     4.0  121.318208  25.001219     310  \n",
       "82     1.0  121.383528  24.949028     311  \n",
       "83     0.0  120.183397  23.236881     312  \n",
       "84     0.0  120.590369  22.384742     313  \n",
       "\n",
       "[85 rows x 24 columns]>"
      ]
     },
     "execution_count": 29,
     "metadata": {},
     "output_type": "execute_result"
    }
   ],
   "source": [
    "df2.head "
   ]
  },
  {
   "cell_type": "markdown",
   "id": "cdd3dce1",
   "metadata": {},
   "source": [
    "取單向資料 : dataframe名稱[項目名稱]"
   ]
  },
  {
   "cell_type": "code",
   "execution_count": 30,
   "id": "1f5188d1",
   "metadata": {},
   "outputs": [
    {
     "data": {
      "text/plain": [
       "0     84\n",
       "1     75\n",
       "2     90\n",
       "3     62\n",
       "4     67\n",
       "      ..\n",
       "80    28\n",
       "81    55\n",
       "82    52\n",
       "83    17\n",
       "84    39\n",
       "Name: AQI, Length: 85, dtype: int64"
      ]
     },
     "execution_count": 30,
     "metadata": {},
     "output_type": "execute_result"
    }
   ],
   "source": [
    "df2[\"AQI\"] "
   ]
  },
  {
   "cell_type": "markdown",
   "id": "6299f823",
   "metadata": {},
   "source": [
    "或者 :\n",
    "dataframe名稱.項目名稱"
   ]
  },
  {
   "cell_type": "code",
   "execution_count": 31,
   "id": "cf052b75",
   "metadata": {},
   "outputs": [
    {
     "data": {
      "text/plain": [
       "0     84\n",
       "1     75\n",
       "2     90\n",
       "3     62\n",
       "4     67\n",
       "      ..\n",
       "80    28\n",
       "81    55\n",
       "82    52\n",
       "83    17\n",
       "84    39\n",
       "Name: AQI, Length: 85, dtype: int64"
      ]
     },
     "execution_count": 31,
     "metadata": {},
     "output_type": "execute_result"
    }
   ],
   "source": [
    "df2.AQI  "
   ]
  },
  {
   "cell_type": "markdown",
   "id": "218354aa",
   "metadata": {},
   "source": [
    "轉換單向資料為array : dataframe名稱.項目名稱.values 或者 dataframe名稱[項目名稱].values"
   ]
  },
  {
   "cell_type": "code",
   "execution_count": 32,
   "id": "b666dcd6",
   "metadata": {},
   "outputs": [],
   "source": [
    "AQI = df2.AQI.values "
   ]
  },
  {
   "cell_type": "code",
   "execution_count": 33,
   "id": "7150925b",
   "metadata": {},
   "outputs": [
    {
     "data": {
      "text/plain": [
       "array([ 84,  75,  90,  62,  67,  55,  56,  54,  43,  36,  47,  54,  54,\n",
       "        59,  63,  54,  51,  39,  34,  53,  41,  39,  46,  40,  45,  37,\n",
       "        31,  27,  28,  30,  30,  38,  28,  31,  28,  33,  60,  21,  32,\n",
       "       107,  23,  34,  38,  26,  26,  39,  35,  31,  32,  40,  27,  25,\n",
       "        28,  29,  27,  46,  29,  26,  19,  15,  26,  21,  41,  44,  47,\n",
       "        52,  51,  19,  62,  27,  23,  49,  47,  21,  16,  24,  44,  27,\n",
       "        27,  28,  28,  55,  52,  17,  39], dtype=int64)"
      ]
     },
     "execution_count": 33,
     "metadata": {},
     "output_type": "execute_result"
    }
   ],
   "source": [
    "AQI"
   ]
  },
  {
   "cell_type": "code",
   "execution_count": 34,
   "id": "61f344e0",
   "metadata": {},
   "outputs": [],
   "source": [
    "CO = df2.CO.values"
   ]
  },
  {
   "cell_type": "code",
   "execution_count": 35,
   "id": "ccc06c7e",
   "metadata": {},
   "outputs": [
    {
     "data": {
      "text/plain": [
       "array(['0.35', '0.35', '0.28', '0.54', '0.56', '0.51', '0.4', '0.42',\n",
       "       '0.15', '0.26', '0.27', '0.52', '0.61', '0.49', '0.42', '1.18',\n",
       "       '0.26', '0.18', '0.1', '0.26', '0.24', '0.11', '0.28', '0.37',\n",
       "       '0.21', '0.22', '0.18', '0.24', '0.24', '0.36', '0.3', '0.21',\n",
       "       '0.18', '0.15', '0.16', '0.26', '0.48', '0.13', '0.17', '0.64',\n",
       "       '0.24', '0.27', '0.32', '0.2', '0.32', '0.18', '0.16', '0.32',\n",
       "       '0.28', '0.28', '0.09', '0.11', '0.33', '0.24', '0.16', '0.3',\n",
       "       '0.12', '0.28', '0.12', '0.08', '0.25', '0.14', '0.21', '0.32',\n",
       "       '0.39', '0.79', '0.89', '0.23', '1.47', '0.22', '0.18', '0.26',\n",
       "       '0.22', '0.2', '-', '0.24', '0.11', '0.09', '0.2', '0.26', '0.09',\n",
       "       '0.99', '0.33', '0.3', '0.15'], dtype=object)"
      ]
     },
     "execution_count": 35,
     "metadata": {},
     "output_type": "execute_result"
    }
   ],
   "source": [
    "CO"
   ]
  },
  {
   "cell_type": "markdown",
   "id": "d7d98e2d",
   "metadata": {},
   "source": [
    "平均"
   ]
  },
  {
   "cell_type": "code",
   "execution_count": 36,
   "id": "730d9957",
   "metadata": {},
   "outputs": [
    {
     "data": {
      "text/plain": [
       "39.811764705882354"
      ]
     },
     "execution_count": 36,
     "metadata": {},
     "output_type": "execute_result"
    }
   ],
   "source": [
    "AQI.mean() "
   ]
  },
  {
   "cell_type": "markdown",
   "id": "80191cb9",
   "metadata": {},
   "source": [
    "標準差"
   ]
  },
  {
   "cell_type": "code",
   "execution_count": 37,
   "id": "514cfedb",
   "metadata": {},
   "outputs": [
    {
     "data": {
      "text/plain": [
       "16.839375507246356"
      ]
     },
     "execution_count": 37,
     "metadata": {},
     "output_type": "execute_result"
    }
   ],
   "source": [
    "AQI.std()"
   ]
  },
  {
   "cell_type": "code",
   "execution_count": 38,
   "id": "203a6a48",
   "metadata": {},
   "outputs": [
    {
     "data": {
      "text/plain": [
       "<AxesSubplot:>"
      ]
     },
     "execution_count": 38,
     "metadata": {},
     "output_type": "execute_result"
    },
    {
     "data": {
      "image/png": "[encoded data removed]",
      "text/plain": [
       "<Figure size 432x288 with 1 Axes>"
      ]
     },
     "metadata": {
      "needs_background": "light"
     },
     "output_type": "display_data"
    }
   ],
   "source": [
    "df2.AQI.plot()"
   ]
  },
  {
   "cell_type": "markdown",
   "id": "02cb05ab",
   "metadata": {},
   "source": [
    "直方圖 區間是40"
   ]
  },
  {
   "cell_type": "code",
   "execution_count": 42,
   "id": "d24db1bb",
   "metadata": {},
   "outputs": [
    {
     "data": {
      "text/plain": [
       "Text(0.5, 0, 'AQI')"
      ]
     },
     "execution_count": 42,
     "metadata": {},
     "output_type": "execute_result"
    },
    {
     "data": {
      "image/png": "[encoded data removed]",
      "text/plain": [
       "<Figure size 432x288 with 1 Axes>"
      ]
     },
     "metadata": {
      "needs_background": "light"
     },
     "output_type": "display_data"
    }
   ],
   "source": [
    "df2.AQI.hist(bins=40) \n",
    "plt.ylabel(\"times\")\n",
    "plt.xlabel(\"AQI\")"
   ]
  }
 ],
 "metadata": {
  "kernelspec": {
   "display_name": "Python 3 (ipykernel)",
   "language": "python",
   "name": "python3"
  },
  "language_info": {
   "codemirror_mode": {
    "name": "ipython",
    "version": 3
   },
   "file_extension": ".py",
   "mimetype": "text/x-python",
   "name": "python",
   "nbconvert_exporter": "python",
   "pygments_lexer": "ipython3",
   "version": "3.9.7"
  }
 },
 "nbformat": 4,
 "nbformat_minor": 5
}
