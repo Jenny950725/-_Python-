{
 "cells": [
  {
   "cell_type": "markdown",
   "id": "d02efd38",
   "metadata": {},
   "source": [
    "## 函數\n",
    "把一串指令合起來，以後需要這個function的時候，就不用一直重複打程式碼，只要呼叫函數就好"
   ]
  },
  {
   "cell_type": "markdown",
   "id": "f00b7508",
   "metadata": {},
   "source": [
    "## 函數基本寫法"
   ]
  },
  {
   "cell_type": "code",
   "execution_count": 1,
   "id": "b1caa143",
   "metadata": {},
   "outputs": [],
   "source": [
    "def square(x):\n",
    "    return x**2"
   ]
  },
  {
   "cell_type": "code",
   "execution_count": 2,
   "id": "d2d8c522",
   "metadata": {},
   "outputs": [
    {
     "data": {
      "text/plain": [
       "16"
      ]
     },
     "execution_count": 2,
     "metadata": {},
     "output_type": "execute_result"
    }
   ],
   "source": [
    "square(4)"
   ]
  },
  {
   "cell_type": "markdown",
   "id": "94d901ab",
   "metadata": {},
   "source": [
    "函數名稱可以是中文"
   ]
  },
  {
   "cell_type": "code",
   "execution_count": 6,
   "id": "4fd2beb4",
   "metadata": {},
   "outputs": [],
   "source": [
    "def 平方(甲):\n",
    "    print(甲**2)"
   ]
  },
  {
   "cell_type": "code",
   "execution_count": 7,
   "id": "ffb001ef",
   "metadata": {},
   "outputs": [
    {
     "name": "stdout",
     "output_type": "stream",
     "text": [
      "36\n"
     ]
    }
   ],
   "source": [
    "平方(6)"
   ]
  },
  {
   "cell_type": "code",
   "execution_count": 8,
   "id": "e2047add",
   "metadata": {},
   "outputs": [],
   "source": [
    "a = square(44)"
   ]
  },
  {
   "cell_type": "code",
   "execution_count": 9,
   "id": "50da9310",
   "metadata": {},
   "outputs": [
    {
     "data": {
      "text/plain": [
       "1936"
      ]
     },
     "execution_count": 9,
     "metadata": {},
     "output_type": "execute_result"
    }
   ],
   "source": [
    "a"
   ]
  },
  {
   "cell_type": "code",
   "execution_count": 10,
   "id": "166ecd0e",
   "metadata": {},
   "outputs": [
    {
     "name": "stdout",
     "output_type": "stream",
     "text": [
      "3025\n"
     ]
    }
   ],
   "source": [
    "b = 平方(55)"
   ]
  },
  {
   "cell_type": "code",
   "execution_count": 11,
   "id": "92206f47",
   "metadata": {},
   "outputs": [],
   "source": [
    "b"
   ]
  },
  {
   "cell_type": "markdown",
   "id": "68d8a991",
   "metadata": {},
   "source": [
    "### 記得冒號\n",
    "print:印出來 \n",
    "\n",
    "return:有回傳值"
   ]
  }
 ],
 "metadata": {
  "kernelspec": {
   "display_name": "Python 3 (ipykernel)",
   "language": "python",
   "name": "python3"
  },
  "language_info": {
   "codemirror_mode": {
    "name": "ipython",
    "version": 3
   },
   "file_extension": ".py",
   "mimetype": "text/x-python",
   "name": "python",
   "nbconvert_exporter": "python",
   "pygments_lexer": "ipython3",
   "version": "3.9.7"
  }
 },
 "nbformat": 4,
 "nbformat_minor": 5
}
