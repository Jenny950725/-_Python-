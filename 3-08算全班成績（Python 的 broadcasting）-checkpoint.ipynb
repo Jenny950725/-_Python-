{
 "cells": [
  {
   "cell_type": "code",
   "execution_count": 1,
   "id": "326fa568",
   "metadata": {},
   "outputs": [],
   "source": [
    "%matplotlib inline\n",
    "import numpy as np\n",
    "import matplotlib.pyplot as plt"
   ]
  },
  {
   "cell_type": "markdown",
   "id": "f163379b",
   "metadata": {},
   "source": [
    "一位同學有三個成績，有三位同學，算他們的加權成績"
   ]
  },
  {
   "cell_type": "code",
   "execution_count": 2,
   "id": "b57780b1",
   "metadata": {},
   "outputs": [],
   "source": [
    "grades = np.array([[67,86,36],[20,58,77],[55,37,90]])"
   ]
  },
  {
   "cell_type": "code",
   "execution_count": 3,
   "id": "896d2143",
   "metadata": {},
   "outputs": [],
   "source": [
    "weights = np.array([0.4,0.3,0.3])"
   ]
  },
  {
   "cell_type": "code",
   "execution_count": 4,
   "id": "d249186a",
   "metadata": {},
   "outputs": [
    {
     "data": {
      "text/plain": [
       "array([63.4, 48.5, 60.1])"
      ]
     },
     "execution_count": 4,
     "metadata": {},
     "output_type": "execute_result"
    }
   ],
   "source": [
    "np.dot(grades,weights)"
   ]
  },
  {
   "cell_type": "markdown",
   "id": "82633640",
   "metadata": {},
   "source": [
    "array可以是一維或二維的"
   ]
  }
 ],
 "metadata": {
  "kernelspec": {
   "display_name": "Python 3 (ipykernel)",
   "language": "python",
   "name": "python3"
  },
  "language_info": {
   "codemirror_mode": {
    "name": "ipython",
    "version": 3
   },
   "file_extension": ".py",
   "mimetype": "text/x-python",
   "name": "python",
   "nbconvert_exporter": "python",
   "pygments_lexer": "ipython3",
   "version": "3.9.7"
  }
 },
 "nbformat": 4,
 "nbformat_minor": 5
}
