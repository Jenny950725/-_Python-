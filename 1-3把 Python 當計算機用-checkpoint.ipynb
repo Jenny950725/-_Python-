{
 "cells": [
  {
   "cell_type": "code",
   "execution_count": 5,
   "id": "5028bad7",
   "metadata": {},
   "outputs": [
    {
     "data": {
      "text/plain": [
       "2"
      ]
     },
     "execution_count": 5,
     "metadata": {},
     "output_type": "execute_result"
    }
   ],
   "source": [
    "1+1 "
   ]
  },
  {
   "cell_type": "markdown",
   "id": "62aa59a8",
   "metadata": {},
   "source": [
    "#### 不能直接打enter輸出結果，要按enter+shift"
   ]
  },
  {
   "cell_type": "markdown",
   "id": "797b7c35",
   "metadata": {},
   "source": [
    "## 加"
   ]
  },
  {
   "cell_type": "code",
   "execution_count": 6,
   "id": "9f61d968",
   "metadata": {
    "scrolled": true
   },
   "outputs": [
    {
     "data": {
      "text/plain": [
       "10"
      ]
     },
     "execution_count": 6,
     "metadata": {},
     "output_type": "execute_result"
    }
   ],
   "source": [
    "1+(5+4)"
   ]
  },
  {
   "cell_type": "markdown",
   "id": "8fc27c64",
   "metadata": {},
   "source": [
    "## 減"
   ]
  },
  {
   "cell_type": "code",
   "execution_count": 7,
   "id": "647c11cb",
   "metadata": {},
   "outputs": [
    {
     "data": {
      "text/plain": [
       "1"
      ]
     },
     "execution_count": 7,
     "metadata": {},
     "output_type": "execute_result"
    }
   ],
   "source": [
    "5-4"
   ]
  },
  {
   "cell_type": "markdown",
   "id": "bdf03f76",
   "metadata": {},
   "source": [
    "## 乘"
   ]
  },
  {
   "cell_type": "code",
   "execution_count": 8,
   "id": "8a321443",
   "metadata": {},
   "outputs": [
    {
     "data": {
      "text/plain": [
       "10"
      ]
     },
     "execution_count": 8,
     "metadata": {},
     "output_type": "execute_result"
    }
   ],
   "source": [
    "5*2"
   ]
  },
  {
   "cell_type": "markdown",
   "id": "50039dcc",
   "metadata": {},
   "source": [
    "## 除"
   ]
  },
  {
   "cell_type": "markdown",
   "id": "b0a449bf",
   "metadata": {},
   "source": [
    "* 可直接算有小數點的除法(c++不行)"
   ]
  },
  {
   "cell_type": "code",
   "execution_count": 9,
   "id": "54d1e793",
   "metadata": {},
   "outputs": [
    {
     "data": {
      "text/plain": [
       "1.6666666666666667"
      ]
     },
     "execution_count": 9,
     "metadata": {},
     "output_type": "execute_result"
    }
   ],
   "source": [
    "5/3"
   ]
  },
  {
   "cell_type": "markdown",
   "id": "33ac68f7",
   "metadata": {},
   "source": [
    "* python的整數沒有限制位數"
   ]
  },
  {
   "cell_type": "code",
   "execution_count": 10,
   "id": "65ae47b5",
   "metadata": {},
   "outputs": [
    {
     "data": {
      "text/plain": [
       "345678909876543236576746513414357689800895784657367252451342454567887"
      ]
     },
     "execution_count": 10,
     "metadata": {},
     "output_type": "execute_result"
    }
   ],
   "source": [
    "345678909876543236576746513414357689800895784657367252451342454567890-3"
   ]
  },
  {
   "cell_type": "markdown",
   "id": "f24f9c7d",
   "metadata": {},
   "source": [
    "### 題目\n",
    "開咖啡店，在臉書上投放廣告，要給兩千個人曝光，假設轉化率為5%，轉化後的平均消費為每人150元，求廣告成效。"
   ]
  },
  {
   "cell_type": "code",
   "execution_count": 12,
   "id": "e2b0a4d8",
   "metadata": {},
   "outputs": [
    {
     "data": {
      "text/plain": [
       "15000.0"
      ]
     },
     "execution_count": 12,
     "metadata": {},
     "output_type": "execute_result"
    }
   ],
   "source": [
    "(2000*0.05)*150"
   ]
  },
  {
   "cell_type": "markdown",
   "id": "ec767874",
   "metadata": {},
   "source": [
    "%符號在python裡頭能拿來取餘數"
   ]
  },
  {
   "cell_type": "code",
   "execution_count": null,
   "id": "b9ac20d7",
   "metadata": {},
   "outputs": [],
   "source": []
  }
 ],
 "metadata": {
  "kernelspec": {
   "display_name": "Python 3 (ipykernel)",
   "language": "python",
   "name": "python3"
  },
  "language_info": {
   "codemirror_mode": {
    "name": "ipython",
    "version": 3
   },
   "file_extension": ".py",
   "mimetype": "text/x-python",
   "name": "python",
   "nbconvert_exporter": "python",
   "pygments_lexer": "ipython3",
   "version": "3.9.7"
  }
 },
 "nbformat": 4,
 "nbformat_minor": 5
}
