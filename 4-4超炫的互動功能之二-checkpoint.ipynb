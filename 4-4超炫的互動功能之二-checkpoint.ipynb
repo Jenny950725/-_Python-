{
 "cells": [
  {
   "cell_type": "code",
   "execution_count": 1,
   "id": "2bb716d1",
   "metadata": {},
   "outputs": [],
   "source": [
    "%matplotlib inline\n",
    "import numpy as np\n",
    "import matplotlib.pyplot as plt"
   ]
  },
  {
   "cell_type": "code",
   "execution_count": 2,
   "id": "8bc622a6",
   "metadata": {},
   "outputs": [],
   "source": [
    "from ipywidgets import interact"
   ]
  },
  {
   "cell_type": "code",
   "execution_count": 3,
   "id": "f51613b3",
   "metadata": {},
   "outputs": [],
   "source": [
    "def f(你最喜歡):\n",
    "    print(你最喜歡)"
   ]
  },
  {
   "cell_type": "code",
   "execution_count": 4,
   "id": "fc26a43c",
   "metadata": {},
   "outputs": [
    {
     "data": {
      "application/vnd.jupyter.widget-view+json": {
       "model_id": "77aa3bb07e7c490581e07a556e4b5007",
       "version_major": 2,
       "version_minor": 0
      },
      "text/plain": [
       "interactive(children=(Dropdown(description='你最喜歡', options=('姜姜', '森森', 'Jamie', '潔菇'), value='姜姜'), Output())…"
      ]
     },
     "metadata": {},
     "output_type": "display_data"
    },
    {
     "data": {
      "text/plain": [
       "<function __main__.f(你最喜歡)>"
      ]
     },
     "execution_count": 4,
     "metadata": {},
     "output_type": "execute_result"
    }
   ],
   "source": [
    "interact(f,你最喜歡=['姜姜','森森','Jamie','潔菇'])"
   ]
  },
  {
   "cell_type": "code",
   "execution_count": 6,
   "id": "4dfce435",
   "metadata": {},
   "outputs": [
    {
     "data": {
      "application/vnd.jupyter.widget-view+json": {
       "model_id": "162614f08b7d4dd4a32d6206bbb0e2a3",
       "version_major": 2,
       "version_minor": 0
      },
      "text/plain": [
       "interactive(children=(Dropdown(description='你最喜歡', options={'姜姜': '你有被親過嗎', '森森': '身為武陵學長不覺得羞愧嗎', 'Jamie': '喔這…"
      ]
     },
     "metadata": {},
     "output_type": "display_data"
    },
    {
     "data": {
      "text/plain": [
       "<function __main__.f(你最喜歡)>"
      ]
     },
     "execution_count": 6,
     "metadata": {},
     "output_type": "execute_result"
    }
   ],
   "source": [
    "interact(f,你最喜歡= {'姜姜':'你有被親過嗎','森森':'身為武陵學長不覺得羞愧嗎','Jamie':'喔這個圖資真的很廢!我的小老師最棒了','潔菇':'如果你很會講的話你上來講啊,我錢付給你'})"
   ]
  }
 ],
 "metadata": {
  "kernelspec": {
   "display_name": "Python 3 (ipykernel)",
   "language": "python",
   "name": "python3"
  },
  "language_info": {
   "codemirror_mode": {
    "name": "ipython",
    "version": 3
   },
   "file_extension": ".py",
   "mimetype": "text/x-python",
   "name": "python",
   "nbconvert_exporter": "python",
   "pygments_lexer": "ipython3",
   "version": "3.9.7"
  }
 },
 "nbformat": 4,
 "nbformat_minor": 5
}
