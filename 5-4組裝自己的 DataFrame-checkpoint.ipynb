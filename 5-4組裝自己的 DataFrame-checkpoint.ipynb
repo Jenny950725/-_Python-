{
 "cells": [
  {
   "cell_type": "code",
   "execution_count": 2,
   "id": "01682a17",
   "metadata": {},
   "outputs": [],
   "source": [
    "%matplotlib inline\n",
    "import numpy as np\n",
    "import matplotlib.pyplot as plt\n",
    "import pandas as pd"
   ]
  },
  {
   "cell_type": "code",
   "execution_count": 3,
   "id": "b6f11e86",
   "metadata": {},
   "outputs": [],
   "source": [
    "mydata = np.random.randn(4,3) \n",
    "#產生一個array\n",
    "#randn 平均值0 標準差是1\n",
    "#四列三行"
   ]
  },
  {
   "cell_type": "code",
   "execution_count": 4,
   "id": "59cfd002",
   "metadata": {},
   "outputs": [
    {
     "data": {
      "text/plain": [
       "array([[ 0.59392889, -0.46962516, -0.77860477],\n",
       "       [ 0.16313824,  1.72534946,  1.06920754],\n",
       "       [ 1.17112627, -1.7013407 , -0.5180835 ],\n",
       "       [ 0.62184486,  0.69549555, -1.38805676]])"
      ]
     },
     "execution_count": 4,
     "metadata": {},
     "output_type": "execute_result"
    }
   ],
   "source": [
    "mydata"
   ]
  },
  {
   "cell_type": "code",
   "execution_count": 5,
   "id": "5da39c71",
   "metadata": {},
   "outputs": [
    {
     "data": {
      "text/plain": [
       "['A', 'B', 'C', 'D', 'E']"
      ]
     },
     "execution_count": 5,
     "metadata": {},
     "output_type": "execute_result"
    }
   ],
   "source": [
    "list(\"ABCDE\") #字串和list轉換"
   ]
  },
  {
   "cell_type": "markdown",
   "id": "27e1d424",
   "metadata": {},
   "source": [
    "新dataframe = pd.DataFrame(array, columns=項目list)"
   ]
  },
  {
   "cell_type": "code",
   "execution_count": 6,
   "id": "82c819ea",
   "metadata": {},
   "outputs": [],
   "source": [
    "df1 = pd.DataFrame(mydata, columns=list(\"ABC\")) "
   ]
  },
  {
   "cell_type": "code",
   "execution_count": 7,
   "id": "43e64fc9",
   "metadata": {},
   "outputs": [
    {
     "data": {
      "text/html": [
       "<div>\n",
       "<style scoped>\n",
       "    .dataframe tbody tr th:only-of-type {\n",
       "        vertical-align: middle;\n",
       "    }\n",
       "\n",
       "    .dataframe tbody tr th {\n",
       "        vertical-align: top;\n",
       "    }\n",
       "\n",
       "    .dataframe thead th {\n",
       "        text-align: right;\n",
       "    }\n",
       "</style>\n",
       "<table border=\"1\" class=\"dataframe\">\n",
       "  <thead>\n",
       "    <tr style=\"text-align: right;\">\n",
       "      <th></th>\n",
       "      <th>A</th>\n",
       "      <th>B</th>\n",
       "      <th>C</th>\n",
       "    </tr>\n",
       "  </thead>\n",
       "  <tbody>\n",
       "    <tr>\n",
       "      <th>0</th>\n",
       "      <td>0.593929</td>\n",
       "      <td>-0.469625</td>\n",
       "      <td>-0.778605</td>\n",
       "    </tr>\n",
       "    <tr>\n",
       "      <th>1</th>\n",
       "      <td>0.163138</td>\n",
       "      <td>1.725349</td>\n",
       "      <td>1.069208</td>\n",
       "    </tr>\n",
       "    <tr>\n",
       "      <th>2</th>\n",
       "      <td>1.171126</td>\n",
       "      <td>-1.701341</td>\n",
       "      <td>-0.518084</td>\n",
       "    </tr>\n",
       "    <tr>\n",
       "      <th>3</th>\n",
       "      <td>0.621845</td>\n",
       "      <td>0.695496</td>\n",
       "      <td>-1.388057</td>\n",
       "    </tr>\n",
       "  </tbody>\n",
       "</table>\n",
       "</div>"
      ],
      "text/plain": [
       "          A         B         C\n",
       "0  0.593929 -0.469625 -0.778605\n",
       "1  0.163138  1.725349  1.069208\n",
       "2  1.171126 -1.701341 -0.518084\n",
       "3  0.621845  0.695496 -1.388057"
      ]
     },
     "execution_count": 7,
     "metadata": {},
     "output_type": "execute_result"
    }
   ],
   "source": [
    "df1"
   ]
  },
  {
   "cell_type": "code",
   "execution_count": 8,
   "id": "47c13b3e",
   "metadata": {},
   "outputs": [],
   "source": [
    "df2 = pd.DataFrame(np.random.randn(3,3), columns=list(\"ABC\"))"
   ]
  },
  {
   "cell_type": "code",
   "execution_count": 9,
   "id": "16a9d1bc",
   "metadata": {},
   "outputs": [
    {
     "data": {
      "text/html": [
       "<div>\n",
       "<style scoped>\n",
       "    .dataframe tbody tr th:only-of-type {\n",
       "        vertical-align: middle;\n",
       "    }\n",
       "\n",
       "    .dataframe tbody tr th {\n",
       "        vertical-align: top;\n",
       "    }\n",
       "\n",
       "    .dataframe thead th {\n",
       "        text-align: right;\n",
       "    }\n",
       "</style>\n",
       "<table border=\"1\" class=\"dataframe\">\n",
       "  <thead>\n",
       "    <tr style=\"text-align: right;\">\n",
       "      <th></th>\n",
       "      <th>A</th>\n",
       "      <th>B</th>\n",
       "      <th>C</th>\n",
       "    </tr>\n",
       "  </thead>\n",
       "  <tbody>\n",
       "    <tr>\n",
       "      <th>0</th>\n",
       "      <td>-1.204166</td>\n",
       "      <td>0.125426</td>\n",
       "      <td>1.432330</td>\n",
       "    </tr>\n",
       "    <tr>\n",
       "      <th>1</th>\n",
       "      <td>1.190952</td>\n",
       "      <td>0.844922</td>\n",
       "      <td>1.561366</td>\n",
       "    </tr>\n",
       "    <tr>\n",
       "      <th>2</th>\n",
       "      <td>-0.166206</td>\n",
       "      <td>0.799002</td>\n",
       "      <td>-0.375162</td>\n",
       "    </tr>\n",
       "  </tbody>\n",
       "</table>\n",
       "</div>"
      ],
      "text/plain": [
       "          A         B         C\n",
       "0 -1.204166  0.125426  1.432330\n",
       "1  1.190952  0.844922  1.561366\n",
       "2 -0.166206  0.799002 -0.375162"
      ]
     },
     "execution_count": 9,
     "metadata": {},
     "output_type": "execute_result"
    }
   ],
   "source": [
    "df2"
   ]
  },
  {
   "cell_type": "markdown",
   "id": "dd524fe7",
   "metadata": {},
   "source": [
    "合併\n",
    "\n",
    "axis=0 : 上下(列)的方向\n",
    "    \n"
   ]
  },
  {
   "cell_type": "code",
   "execution_count": 10,
   "id": "664c0759",
   "metadata": {},
   "outputs": [],
   "source": [
    "df3 = pd.concat([df1,df2], axis=0)"
   ]
  },
  {
   "cell_type": "code",
   "execution_count": 11,
   "id": "4cb7b616",
   "metadata": {},
   "outputs": [
    {
     "data": {
      "text/html": [
       "<div>\n",
       "<style scoped>\n",
       "    .dataframe tbody tr th:only-of-type {\n",
       "        vertical-align: middle;\n",
       "    }\n",
       "\n",
       "    .dataframe tbody tr th {\n",
       "        vertical-align: top;\n",
       "    }\n",
       "\n",
       "    .dataframe thead th {\n",
       "        text-align: right;\n",
       "    }\n",
       "</style>\n",
       "<table border=\"1\" class=\"dataframe\">\n",
       "  <thead>\n",
       "    <tr style=\"text-align: right;\">\n",
       "      <th></th>\n",
       "      <th>A</th>\n",
       "      <th>B</th>\n",
       "      <th>C</th>\n",
       "    </tr>\n",
       "  </thead>\n",
       "  <tbody>\n",
       "    <tr>\n",
       "      <th>0</th>\n",
       "      <td>0.593929</td>\n",
       "      <td>-0.469625</td>\n",
       "      <td>-0.778605</td>\n",
       "    </tr>\n",
       "    <tr>\n",
       "      <th>1</th>\n",
       "      <td>0.163138</td>\n",
       "      <td>1.725349</td>\n",
       "      <td>1.069208</td>\n",
       "    </tr>\n",
       "    <tr>\n",
       "      <th>2</th>\n",
       "      <td>1.171126</td>\n",
       "      <td>-1.701341</td>\n",
       "      <td>-0.518084</td>\n",
       "    </tr>\n",
       "    <tr>\n",
       "      <th>3</th>\n",
       "      <td>0.621845</td>\n",
       "      <td>0.695496</td>\n",
       "      <td>-1.388057</td>\n",
       "    </tr>\n",
       "    <tr>\n",
       "      <th>0</th>\n",
       "      <td>-1.204166</td>\n",
       "      <td>0.125426</td>\n",
       "      <td>1.432330</td>\n",
       "    </tr>\n",
       "    <tr>\n",
       "      <th>1</th>\n",
       "      <td>1.190952</td>\n",
       "      <td>0.844922</td>\n",
       "      <td>1.561366</td>\n",
       "    </tr>\n",
       "    <tr>\n",
       "      <th>2</th>\n",
       "      <td>-0.166206</td>\n",
       "      <td>0.799002</td>\n",
       "      <td>-0.375162</td>\n",
       "    </tr>\n",
       "  </tbody>\n",
       "</table>\n",
       "</div>"
      ],
      "text/plain": [
       "          A         B         C\n",
       "0  0.593929 -0.469625 -0.778605\n",
       "1  0.163138  1.725349  1.069208\n",
       "2  1.171126 -1.701341 -0.518084\n",
       "3  0.621845  0.695496 -1.388057\n",
       "0 -1.204166  0.125426  1.432330\n",
       "1  1.190952  0.844922  1.561366\n",
       "2 -0.166206  0.799002 -0.375162"
      ]
     },
     "execution_count": 11,
     "metadata": {},
     "output_type": "execute_result"
    }
   ],
   "source": [
    "df3"
   ]
  },
  {
   "cell_type": "markdown",
   "id": "4060ba1c",
   "metadata": {},
   "source": [
    "axis=1 : 左右(行)的方向"
   ]
  },
  {
   "cell_type": "code",
   "execution_count": 12,
   "id": "f1d3419e",
   "metadata": {},
   "outputs": [],
   "source": [
    "df4 = pd.concat([df1,df2], axis=1)"
   ]
  },
  {
   "cell_type": "code",
   "execution_count": 13,
   "id": "22407e09",
   "metadata": {},
   "outputs": [
    {
     "data": {
      "text/html": [
       "<div>\n",
       "<style scoped>\n",
       "    .dataframe tbody tr th:only-of-type {\n",
       "        vertical-align: middle;\n",
       "    }\n",
       "\n",
       "    .dataframe tbody tr th {\n",
       "        vertical-align: top;\n",
       "    }\n",
       "\n",
       "    .dataframe thead th {\n",
       "        text-align: right;\n",
       "    }\n",
       "</style>\n",
       "<table border=\"1\" class=\"dataframe\">\n",
       "  <thead>\n",
       "    <tr style=\"text-align: right;\">\n",
       "      <th></th>\n",
       "      <th>A</th>\n",
       "      <th>B</th>\n",
       "      <th>C</th>\n",
       "      <th>A</th>\n",
       "      <th>B</th>\n",
       "      <th>C</th>\n",
       "    </tr>\n",
       "  </thead>\n",
       "  <tbody>\n",
       "    <tr>\n",
       "      <th>0</th>\n",
       "      <td>0.593929</td>\n",
       "      <td>-0.469625</td>\n",
       "      <td>-0.778605</td>\n",
       "      <td>-1.204166</td>\n",
       "      <td>0.125426</td>\n",
       "      <td>1.432330</td>\n",
       "    </tr>\n",
       "    <tr>\n",
       "      <th>1</th>\n",
       "      <td>0.163138</td>\n",
       "      <td>1.725349</td>\n",
       "      <td>1.069208</td>\n",
       "      <td>1.190952</td>\n",
       "      <td>0.844922</td>\n",
       "      <td>1.561366</td>\n",
       "    </tr>\n",
       "    <tr>\n",
       "      <th>2</th>\n",
       "      <td>1.171126</td>\n",
       "      <td>-1.701341</td>\n",
       "      <td>-0.518084</td>\n",
       "      <td>-0.166206</td>\n",
       "      <td>0.799002</td>\n",
       "      <td>-0.375162</td>\n",
       "    </tr>\n",
       "    <tr>\n",
       "      <th>3</th>\n",
       "      <td>0.621845</td>\n",
       "      <td>0.695496</td>\n",
       "      <td>-1.388057</td>\n",
       "      <td>NaN</td>\n",
       "      <td>NaN</td>\n",
       "      <td>NaN</td>\n",
       "    </tr>\n",
       "  </tbody>\n",
       "</table>\n",
       "</div>"
      ],
      "text/plain": [
       "          A         B         C         A         B         C\n",
       "0  0.593929 -0.469625 -0.778605 -1.204166  0.125426  1.432330\n",
       "1  0.163138  1.725349  1.069208  1.190952  0.844922  1.561366\n",
       "2  1.171126 -1.701341 -0.518084 -0.166206  0.799002 -0.375162\n",
       "3  0.621845  0.695496 -1.388057       NaN       NaN       NaN"
      ]
     },
     "execution_count": 13,
     "metadata": {},
     "output_type": "execute_result"
    }
   ],
   "source": [
    "df4"
   ]
  },
  {
   "cell_type": "markdown",
   "id": "05b59aa5",
   "metadata": {},
   "source": [
    "改index"
   ]
  },
  {
   "cell_type": "code",
   "execution_count": 14,
   "id": "9e934488",
   "metadata": {},
   "outputs": [],
   "source": [
    "df3.index = range(7)"
   ]
  },
  {
   "cell_type": "code",
   "execution_count": 15,
   "id": "6857011e",
   "metadata": {},
   "outputs": [
    {
     "data": {
      "text/html": [
       "<div>\n",
       "<style scoped>\n",
       "    .dataframe tbody tr th:only-of-type {\n",
       "        vertical-align: middle;\n",
       "    }\n",
       "\n",
       "    .dataframe tbody tr th {\n",
       "        vertical-align: top;\n",
       "    }\n",
       "\n",
       "    .dataframe thead th {\n",
       "        text-align: right;\n",
       "    }\n",
       "</style>\n",
       "<table border=\"1\" class=\"dataframe\">\n",
       "  <thead>\n",
       "    <tr style=\"text-align: right;\">\n",
       "      <th></th>\n",
       "      <th>A</th>\n",
       "      <th>B</th>\n",
       "      <th>C</th>\n",
       "    </tr>\n",
       "  </thead>\n",
       "  <tbody>\n",
       "    <tr>\n",
       "      <th>0</th>\n",
       "      <td>0.593929</td>\n",
       "      <td>-0.469625</td>\n",
       "      <td>-0.778605</td>\n",
       "    </tr>\n",
       "    <tr>\n",
       "      <th>1</th>\n",
       "      <td>0.163138</td>\n",
       "      <td>1.725349</td>\n",
       "      <td>1.069208</td>\n",
       "    </tr>\n",
       "    <tr>\n",
       "      <th>2</th>\n",
       "      <td>1.171126</td>\n",
       "      <td>-1.701341</td>\n",
       "      <td>-0.518084</td>\n",
       "    </tr>\n",
       "    <tr>\n",
       "      <th>3</th>\n",
       "      <td>0.621845</td>\n",
       "      <td>0.695496</td>\n",
       "      <td>-1.388057</td>\n",
       "    </tr>\n",
       "    <tr>\n",
       "      <th>4</th>\n",
       "      <td>-1.204166</td>\n",
       "      <td>0.125426</td>\n",
       "      <td>1.432330</td>\n",
       "    </tr>\n",
       "    <tr>\n",
       "      <th>5</th>\n",
       "      <td>1.190952</td>\n",
       "      <td>0.844922</td>\n",
       "      <td>1.561366</td>\n",
       "    </tr>\n",
       "    <tr>\n",
       "      <th>6</th>\n",
       "      <td>-0.166206</td>\n",
       "      <td>0.799002</td>\n",
       "      <td>-0.375162</td>\n",
       "    </tr>\n",
       "  </tbody>\n",
       "</table>\n",
       "</div>"
      ],
      "text/plain": [
       "          A         B         C\n",
       "0  0.593929 -0.469625 -0.778605\n",
       "1  0.163138  1.725349  1.069208\n",
       "2  1.171126 -1.701341 -0.518084\n",
       "3  0.621845  0.695496 -1.388057\n",
       "4 -1.204166  0.125426  1.432330\n",
       "5  1.190952  0.844922  1.561366\n",
       "6 -0.166206  0.799002 -0.375162"
      ]
     },
     "execution_count": 15,
     "metadata": {},
     "output_type": "execute_result"
    }
   ],
   "source": [
    "df3"
   ]
  },
  {
   "cell_type": "markdown",
   "id": "151f0979",
   "metadata": {},
   "source": [
    "大小不一也可以拚起來"
   ]
  },
  {
   "cell_type": "code",
   "execution_count": 16,
   "id": "7a3c0eb7",
   "metadata": {},
   "outputs": [],
   "source": [
    "df4 = pd.concat([df1, df2],axis=1)"
   ]
  },
  {
   "cell_type": "code",
   "execution_count": 17,
   "id": "a6d1ead5",
   "metadata": {},
   "outputs": [
    {
     "data": {
      "text/html": [
       "<div>\n",
       "<style scoped>\n",
       "    .dataframe tbody tr th:only-of-type {\n",
       "        vertical-align: middle;\n",
       "    }\n",
       "\n",
       "    .dataframe tbody tr th {\n",
       "        vertical-align: top;\n",
       "    }\n",
       "\n",
       "    .dataframe thead th {\n",
       "        text-align: right;\n",
       "    }\n",
       "</style>\n",
       "<table border=\"1\" class=\"dataframe\">\n",
       "  <thead>\n",
       "    <tr style=\"text-align: right;\">\n",
       "      <th></th>\n",
       "      <th>A</th>\n",
       "      <th>B</th>\n",
       "      <th>C</th>\n",
       "      <th>A</th>\n",
       "      <th>B</th>\n",
       "      <th>C</th>\n",
       "    </tr>\n",
       "  </thead>\n",
       "  <tbody>\n",
       "    <tr>\n",
       "      <th>0</th>\n",
       "      <td>0.593929</td>\n",
       "      <td>-0.469625</td>\n",
       "      <td>-0.778605</td>\n",
       "      <td>-1.204166</td>\n",
       "      <td>0.125426</td>\n",
       "      <td>1.432330</td>\n",
       "    </tr>\n",
       "    <tr>\n",
       "      <th>1</th>\n",
       "      <td>0.163138</td>\n",
       "      <td>1.725349</td>\n",
       "      <td>1.069208</td>\n",
       "      <td>1.190952</td>\n",
       "      <td>0.844922</td>\n",
       "      <td>1.561366</td>\n",
       "    </tr>\n",
       "    <tr>\n",
       "      <th>2</th>\n",
       "      <td>1.171126</td>\n",
       "      <td>-1.701341</td>\n",
       "      <td>-0.518084</td>\n",
       "      <td>-0.166206</td>\n",
       "      <td>0.799002</td>\n",
       "      <td>-0.375162</td>\n",
       "    </tr>\n",
       "    <tr>\n",
       "      <th>3</th>\n",
       "      <td>0.621845</td>\n",
       "      <td>0.695496</td>\n",
       "      <td>-1.388057</td>\n",
       "      <td>NaN</td>\n",
       "      <td>NaN</td>\n",
       "      <td>NaN</td>\n",
       "    </tr>\n",
       "  </tbody>\n",
       "</table>\n",
       "</div>"
      ],
      "text/plain": [
       "          A         B         C         A         B         C\n",
       "0  0.593929 -0.469625 -0.778605 -1.204166  0.125426  1.432330\n",
       "1  0.163138  1.725349  1.069208  1.190952  0.844922  1.561366\n",
       "2  1.171126 -1.701341 -0.518084 -0.166206  0.799002 -0.375162\n",
       "3  0.621845  0.695496 -1.388057       NaN       NaN       NaN"
      ]
     },
     "execution_count": 17,
     "metadata": {},
     "output_type": "execute_result"
    }
   ],
   "source": [
    "df4"
   ]
  },
  {
   "cell_type": "code",
   "execution_count": 18,
   "id": "8df3f5ed",
   "metadata": {},
   "outputs": [
    {
     "data": {
      "text/plain": [
       "array([[ 0.59392889, -0.46962516, -0.77860477, -1.2041657 ,  0.12542563,\n",
       "         1.4323304 ],\n",
       "       [ 0.16313824,  1.72534946,  1.06920754,  1.19095239,  0.8449216 ,\n",
       "         1.56136582],\n",
       "       [ 1.17112627, -1.7013407 , -0.5180835 , -0.16620574,  0.79900231,\n",
       "        -0.37516184],\n",
       "       [ 0.62184486,  0.69549555, -1.38805676,         nan,         nan,\n",
       "                nan]])"
      ]
     },
     "execution_count": 18,
     "metadata": {},
     "output_type": "execute_result"
    }
   ],
   "source": [
    "df4.values"
   ]
  }
 ],
 "metadata": {
  "kernelspec": {
   "display_name": "Python 3 (ipykernel)",
   "language": "python",
   "name": "python3"
  },
  "language_info": {
   "codemirror_mode": {
    "name": "ipython",
    "version": 3
   },
   "file_extension": ".py",
   "mimetype": "text/x-python",
   "name": "python",
   "nbconvert_exporter": "python",
   "pygments_lexer": "ipython3",
   "version": "3.9.7"
  }
 },
 "nbformat": 4,
 "nbformat_minor": 5
}
