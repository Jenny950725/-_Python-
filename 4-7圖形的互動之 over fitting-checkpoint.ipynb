{
 "cells": [
  {
   "cell_type": "code",
   "execution_count": 23,
   "id": "57b848d3",
   "metadata": {},
   "outputs": [],
   "source": [
    "%matplotlib inline\n",
    "import numpy as np\n",
    "import matplotlib.pyplot as plt"
   ]
  },
  {
   "cell_type": "code",
   "execution_count": 24,
   "id": "72d899b2",
   "metadata": {},
   "outputs": [],
   "source": [
    "import ipywidgets as interact_manual"
   ]
  },
  {
   "cell_type": "markdown",
   "id": "bda463b7",
   "metadata": {},
   "source": [
    "rand:隨機產生0~1之間的小數"
   ]
  },
  {
   "cell_type": "code",
   "execution_count": 25,
   "id": "7dc6fd6c",
   "metadata": {},
   "outputs": [],
   "source": [
    "x = np.random.rand(6)\n",
    "y = np.random.rand(6)  "
   ]
  },
  {
   "cell_type": "markdown",
   "id": "4da14186",
   "metadata": {},
   "source": [
    "scatter可以用來描點 #s用來改點的大小 #c用來改顏色"
   ]
  },
  {
   "cell_type": "code",
   "execution_count": 26,
   "id": "a1817f31",
   "metadata": {},
   "outputs": [
    {
     "data": {
      "text/plain": [
       "<matplotlib.collections.PathCollection at 0x2a791671850>"
      ]
     },
     "execution_count": 26,
     "metadata": {},
     "output_type": "execute_result"
    },
    {
     "data": {
      "image/png": "[encoded data removed]",
      "text/plain": [
       "<Figure size 432x288 with 1 Axes>"
      ]
     },
     "metadata": {
      "needs_background": "light"
     },
     "output_type": "display_data"
    }
   ],
   "source": [
    "plt.scatter(x,y,s=100,c='g')         "
   ]
  },
  {
   "cell_type": "markdown",
   "id": "acf010ba",
   "metadata": {},
   "source": [
    "在0~1之間 產生1000個點"
   ]
  },
  {
   "cell_type": "code",
   "execution_count": 27,
   "id": "f23d9e56",
   "metadata": {},
   "outputs": [],
   "source": [
    "x1 = np.linspace(0,1,1000) "
   ]
  },
  {
   "cell_type": "code",
   "execution_count": 28,
   "id": "a253bd54",
   "metadata": {},
   "outputs": [],
   "source": [
    "def draw(n):\n",
    "    plt.scatter(x,y,s=100,c='g')        #把上面那個圖再畫一次\n",
    "    y1 = 0.5*np.sin(n*x1*2*np.pi)+0.5     #sin介於-1 ~ 1之間 所以把他除以2(相當於 乘以0.5) 再加0.5 可以讓整個值都變正的\n",
    "    plt.plot(x1,y1)\n",
    "    plt.show"
   ]
  },
  {
   "cell_type": "code",
   "execution_count": 30,
   "id": "a4b4aee5",
   "metadata": {},
   "outputs": [
    {
     "ename": "TypeError",
     "evalue": "'module' object is not callable",
     "output_type": "error",
     "traceback": [
      "\u001b[1;31m---------------------------------------------------------------------------\u001b[0m",
      "\u001b[1;31mTypeError\u001b[0m                                 Traceback (most recent call last)",
      "\u001b[1;32m~\\AppData\\Local\\Temp/ipykernel_2240/1854846128.py\u001b[0m in \u001b[0;36m<module>\u001b[1;34m\u001b[0m\n\u001b[1;32m----> 1\u001b[1;33m \u001b[0minteract_manual\u001b[0m \u001b[1;33m(\u001b[0m\u001b[0mdraw\u001b[0m\u001b[1;33m,\u001b[0m \u001b[0mn\u001b[0m\u001b[1;33m=\u001b[0m\u001b[1;33m(\u001b[0m\u001b[1;36m1.\u001b[0m\u001b[1;33m,\u001b[0m \u001b[1;36m200.\u001b[0m\u001b[1;33m)\u001b[0m\u001b[1;33m)\u001b[0m\u001b[1;33m\u001b[0m\u001b[1;33m\u001b[0m\u001b[0m\n\u001b[0m",
      "\u001b[1;31mTypeError\u001b[0m: 'module' object is not callable"
     ]
    }
   ],
   "source": [
    "interact_manual(draw, n=(1., 200.))"
   ]
  }
 ],
 "metadata": {
  "kernelspec": {
   "display_name": "Python 3 (ipykernel)",
   "language": "python",
   "name": "python3"
  },
  "language_info": {
   "codemirror_mode": {
    "name": "ipython",
    "version": 3
   },
   "file_extension": ".py",
   "mimetype": "text/x-python",
   "name": "python",
   "nbconvert_exporter": "python",
   "pygments_lexer": "ipython3",
   "version": "3.9.7"
  }
 },
 "nbformat": 4,
 "nbformat_minor": 5
}
