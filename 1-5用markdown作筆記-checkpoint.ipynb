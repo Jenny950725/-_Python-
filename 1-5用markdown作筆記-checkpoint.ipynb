{
 "cells": [
  {
   "cell_type": "markdown",
   "id": "f3bbb555",
   "metadata": {},
   "source": [
    "模式從code切換到markdown\n",
    "\n",
    "快捷鍵\n",
    ":Ctrl+m 再按一次m\n"
   ]
  },
  {
   "cell_type": "markdown",
   "id": "441fb0a3",
   "metadata": {},
   "source": [
    "# 大標題 \n",
    "#和字中間記得有空白\n",
    "## 次標題\n",
    "### 小標題\n",
    "內文底家"
   ]
  },
  {
   "cell_type": "markdown",
   "id": "42e11e82",
   "metadata": {},
   "source": [
    "## 分項說明\n",
    "分項說明語法 * 內文 or - 內文\n",
    "\n",
    "* 國文\n",
    "* 英文\n",
    "* 數學\n",
    "\n",
    "- 自然 \n",
    "- 社會\n",
    "- 體育"
   ]
  },
  {
   "cell_type": "markdown",
   "id": "4ddce5a1",
   "metadata": {},
   "source": [
    "## 連結\n",
    "\n",
    "中括號裡放網站名稱 小括號裡放網站連結\n",
    "[C++ FULL COURSE For Beginners (Learn C++ in 10 hours)](https://www.youtube.com/watch?v=GQp1zzTwrIg&t=153s)"
   ]
  },
  {
   "cell_type": "markdown",
   "id": "6b67110f",
   "metadata": {},
   "source": [
    "## 插入圖片\n",
    "\n",
    "!後寫中括號，裡放圖片名稱 小括號裡放圖片連結\n",
    "\n",
    "![pig](https://www.mirrormedia.com.tw/assets/images/20201221100717-d7d9dd9c66d8105da46f51b79f2a05eb-tablet.jpg)"
   ]
  },
  {
   "cell_type": "markdown",
   "id": "9cc21e57",
   "metadata": {},
   "source": [
    "## 數學符號\n",
    "$f(x) = 3*x + x^5 - 79$\n",
    "$$\\int_a^b f(x) \\, dx$$"
   ]
  },
  {
   "cell_type": "markdown",
   "id": "89c651de",
   "metadata": {},
   "source": [
    "如果需要置中:\n",
    "前後多加一個錢，再加上latax的語法\n",
    "\n",
    "latax:一種基於TEX的排版系統，生成複雜表格和數學公式。資料來源:維基百科\n"
   ]
  },
  {
   "cell_type": "code",
   "execution_count": null,
   "id": "c8501f5d",
   "metadata": {},
   "outputs": [],
   "source": []
  }
 ],
 "metadata": {
  "kernelspec": {
   "display_name": "Python 3 (ipykernel)",
   "language": "python",
   "name": "python3"
  },
  "language_info": {
   "codemirror_mode": {
    "name": "ipython",
    "version": 3
   },
   "file_extension": ".py",
   "mimetype": "text/x-python",
   "name": "python",
   "nbconvert_exporter": "python",
   "pygments_lexer": "ipython3",
   "version": "3.9.7"
  }
 },
 "nbformat": 4,
 "nbformat_minor": 5
}
