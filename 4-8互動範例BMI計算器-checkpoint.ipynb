{
 "cells": [
  {
   "cell_type": "code",
   "execution_count": 1,
   "id": "53e06e56",
   "metadata": {},
   "outputs": [],
   "source": [
    "%matplotlib inline\n",
    "import numpy as np\n",
    "import matplotlib.pyplot as plt"
   ]
  },
  {
   "cell_type": "code",
   "execution_count": 2,
   "id": "6eab0915",
   "metadata": {},
   "outputs": [],
   "source": [
    "from ipywidgets import interact_manual"
   ]
  },
  {
   "cell_type": "code",
   "execution_count": 3,
   "id": "aaf08131",
   "metadata": {},
   "outputs": [],
   "source": [
    "def BMIcal(height,weight):\n",
    "    height = float(height) / 100\n",
    "    weight = float(weight)\n",
    "    bmi = weight / (height**2)\n",
    "    print(\"您的BMI是: {:.2f}\".format(bmi)) #只要取兩位 {:.2f}"
   ]
  },
  {
   "cell_type": "code",
   "execution_count": 4,
   "id": "44ef33d8",
   "metadata": {},
   "outputs": [
    {
     "data": {
      "application/vnd.jupyter.widget-view+json": {
       "model_id": "07af73d8d3aa48c8b456f067ae121698",
       "version_major": 2,
       "version_minor": 0
      },
      "text/plain": [
       "interactive(children=(Text(value='請輸入您的身高', description='height'), Text(value='請輸入您的體重', description='weight')…"
      ]
     },
     "metadata": {},
     "output_type": "display_data"
    },
    {
     "data": {
      "text/plain": [
       "<function __main__.BMIcal(height, weight)>"
      ]
     },
     "execution_count": 4,
     "metadata": {},
     "output_type": "execute_result"
    }
   ],
   "source": [
    "interact_manual(BMIcal,height=\"請輸入您的身高\",weight=\"請輸入您的體重\")"
   ]
  },
  {
   "cell_type": "code",
   "execution_count": 6,
   "id": "b533f285",
   "metadata": {},
   "outputs": [],
   "source": [
    "def check(bmi):\n",
    "    if bmi < 18.5:\n",
    "        print(\"過輕 吃多一點好嗎\")\n",
    "    elif bmi >= 24:\n",
    "        print(\"過重 您可能需要戒掉消夜\")\n",
    "    else :\n",
    "        print(\"正常 請繼續保持 不要再多吃了 否則你會變胖子\")\n",
    "def BMIcalplus(height,weight):\n",
    "    height = float(height) / 100\n",
    "    weight = float(weight)\n",
    "    bmi = weight / (height**2)\n",
    "    print(\"您的BMI是: {:.2f}\".format(bmi)) #只要取兩位 {:.2f}\n",
    "    check(bmi)"
   ]
  },
  {
   "cell_type": "code",
   "execution_count": 7,
   "id": "ea2dbea6",
   "metadata": {},
   "outputs": [
    {
     "data": {
      "application/vnd.jupyter.widget-view+json": {
       "model_id": "2500d213728a4f309f9d4530b28f1736",
       "version_major": 2,
       "version_minor": 0
      },
      "text/plain": [
       "interactive(children=(Text(value='請輸入您的身高', description='height'), Text(value='請輸入您的體重', description='weight')…"
      ]
     },
     "metadata": {},
     "output_type": "display_data"
    },
    {
     "data": {
      "text/plain": [
       "<function __main__.BMIcalplus(height, weight)>"
      ]
     },
     "execution_count": 7,
     "metadata": {},
     "output_type": "execute_result"
    }
   ],
   "source": [
    "interact_manual(BMIcalplus,height=\"請輸入您的身高\",weight=\"請輸入您的體重\")"
   ]
  },
  {
   "cell_type": "code",
   "execution_count": null,
   "id": "48bb7351",
   "metadata": {},
   "outputs": [],
   "source": []
  }
 ],
 "metadata": {
  "kernelspec": {
   "display_name": "Python 3 (ipykernel)",
   "language": "python",
   "name": "python3"
  },
  "language_info": {
   "codemirror_mode": {
    "name": "ipython",
    "version": 3
   },
   "file_extension": ".py",
   "mimetype": "text/x-python",
   "name": "python",
   "nbconvert_exporter": "python",
   "pygments_lexer": "ipython3",
   "version": "3.9.7"
  }
 },
 "nbformat": 4,
 "nbformat_minor": 5
}
