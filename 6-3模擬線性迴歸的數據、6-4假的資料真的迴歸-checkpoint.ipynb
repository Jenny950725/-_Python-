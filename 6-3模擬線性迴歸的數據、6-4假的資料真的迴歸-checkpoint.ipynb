{
 "cells": [
  {
   "cell_type": "code",
   "execution_count": 2,
   "id": "557e9da0",
   "metadata": {},
   "outputs": [],
   "source": [
    "%matplotlib inline\n",
    "import numpy as np\n",
    "import matplotlib.pyplot as plt"
   ]
  },
  {
   "cell_type": "markdown",
   "id": "56018d84",
   "metadata": {},
   "source": [
    "## 準備模擬的資料"
   ]
  },
  {
   "cell_type": "markdown",
   "id": "3d8f024c",
   "metadata": {},
   "source": [
    "先做一條直線\n",
    "$$f(x) = 1.2x + 0.8$$\n",
    "取五十個點"
   ]
  },
  {
   "cell_type": "code",
   "execution_count": 11,
   "id": "d82041d8",
   "metadata": {},
   "outputs": [],
   "source": [
    "x = np.linspace(0,5,50)"
   ]
  },
  {
   "cell_type": "code",
   "execution_count": 12,
   "id": "d01b10da",
   "metadata": {},
   "outputs": [],
   "source": [
    "y = 1.2*x + 0.8"
   ]
  },
  {
   "cell_type": "code",
   "execution_count": 13,
   "id": "3580f7ad",
   "metadata": {},
   "outputs": [
    {
     "data": {
      "text/plain": [
       "[<matplotlib.lines.Line2D at 0x1e37c4f59a0>]"
      ]
     },
     "execution_count": 13,
     "metadata": {},
     "output_type": "execute_result"
    },
    {
     "data": {
      "image/png": "[encoded data removed]",
      "text/plain": [
       "<Figure size 432x288 with 1 Axes>"
      ]
     },
     "metadata": {
      "needs_background": "light"
     },
     "output_type": "display_data"
    }
   ],
   "source": [
    "plt.scatter(x,y)  #描點 資料\n",
    "plt.plot(x,y,\"r\") #函數\n",
    "                  #\"r\":線的顏色"
   ]
  },
  {
   "cell_type": "markdown",
   "id": "2705a224",
   "metadata": {},
   "source": [
    "製造noise"
   ]
  },
  {
   "cell_type": "code",
   "execution_count": 14,
   "id": "c6657b8d",
   "metadata": {},
   "outputs": [],
   "source": [
    "y = 1.2*x + 0.8 + np.random.randn(50) # randn : 標準差=1,平均=0"
   ]
  },
  {
   "cell_type": "code",
   "execution_count": 15,
   "id": "e6ab9ae0",
   "metadata": {},
   "outputs": [
    {
     "data": {
      "text/plain": [
       "[<matplotlib.lines.Line2D at 0x1e37c5647c0>]"
      ]
     },
     "execution_count": 15,
     "metadata": {},
     "output_type": "execute_result"
    },
    {
     "data": {
      "image/png": "[encoded data removed]",
      "text/plain": [
       "<Figure size 432x288 with 1 Axes>"
      ]
     },
     "metadata": {
      "needs_background": "light"
     },
     "output_type": "display_data"
    }
   ],
   "source": [
    "plt.scatter(x,y)\n",
    "plt.plot(x,1.2*x + 0.8,\"r\")"
   ]
  },
  {
   "cell_type": "code",
   "execution_count": 16,
   "id": "54be56b8",
   "metadata": {},
   "outputs": [
    {
     "data": {
      "text/plain": [
       "array([0.        , 0.10204082, 0.20408163, 0.30612245, 0.40816327,\n",
       "       0.51020408, 0.6122449 , 0.71428571, 0.81632653, 0.91836735,\n",
       "       1.02040816, 1.12244898, 1.2244898 , 1.32653061, 1.42857143,\n",
       "       1.53061224, 1.63265306, 1.73469388, 1.83673469, 1.93877551,\n",
       "       2.04081633, 2.14285714, 2.24489796, 2.34693878, 2.44897959,\n",
       "       2.55102041, 2.65306122, 2.75510204, 2.85714286, 2.95918367,\n",
       "       3.06122449, 3.16326531, 3.26530612, 3.36734694, 3.46938776,\n",
       "       3.57142857, 3.67346939, 3.7755102 , 3.87755102, 3.97959184,\n",
       "       4.08163265, 4.18367347, 4.28571429, 4.3877551 , 4.48979592,\n",
       "       4.59183673, 4.69387755, 4.79591837, 4.89795918, 5.        ])"
      ]
     },
     "execution_count": 16,
     "metadata": {},
     "output_type": "execute_result"
    }
   ],
   "source": [
    "x"
   ]
  },
  {
   "cell_type": "code",
   "execution_count": 17,
   "id": "b50dd139",
   "metadata": {},
   "outputs": [
    {
     "data": {
      "text/plain": [
       "array([-0.3108003 ,  0.49019281,  0.47512019,  1.11662118,  1.49473616,\n",
       "        1.39203489,  1.52664128,  0.70842941,  2.37927496,  2.03843261,\n",
       "        3.07840816,  1.61547689,  2.03727913,  2.68836444,  3.76799817,\n",
       "        4.08722251, -0.66664217,  4.44567686,  3.13144903,  3.93688483,\n",
       "        3.62236482,  3.45510915,  4.87649493,  3.61686758,  4.0360665 ,\n",
       "        4.60857147,  6.0467459 ,  5.17245956,  3.9585711 ,  4.25481708,\n",
       "        4.16055146,  4.48795539,  3.98915739,  5.04153375,  5.32536823,\n",
       "        5.18695142,  4.7122428 ,  5.98561794,  6.10695222,  4.97058904,\n",
       "        6.3890281 ,  6.27383196,  6.53520906,  7.61050444,  7.65528041,\n",
       "        6.97999458,  6.57454029,  7.24809873,  7.47105798,  6.46908929])"
      ]
     },
     "execution_count": 17,
     "metadata": {},
     "output_type": "execute_result"
    }
   ],
   "source": [
    "y"
   ]
  },
  {
   "cell_type": "code",
   "execution_count": 18,
   "id": "bc52f238",
   "metadata": {},
   "outputs": [
    {
     "data": {
      "text/plain": [
       "<matplotlib.collections.PathCollection at 0x1e37c5c64c0>"
      ]
     },
     "execution_count": 18,
     "metadata": {},
     "output_type": "execute_result"
    },
    {
     "data": {
      "image/png": "[encoded data removed]",
      "text/plain": [
       "<Figure size 432x288 with 1 Axes>"
      ]
     },
     "metadata": {
      "needs_background": "light"
     },
     "output_type": "display_data"
    }
   ],
   "source": [
    "plt.scatter(x,y)"
   ]
  },
  {
   "cell_type": "code",
   "execution_count": 19,
   "id": "aafa5561",
   "metadata": {},
   "outputs": [],
   "source": [
    "from sklearn.linear_model import LinearRegression "
   ]
  },
  {
   "cell_type": "markdown",
   "id": "e9e7587a",
   "metadata": {},
   "source": [
    "開線性回歸機的方法\n",
    "\n",
    "機器的變數名稱 = LinearRegression()"
   ]
  },
  {
   "cell_type": "code",
   "execution_count": 20,
   "id": "50162231",
   "metadata": {},
   "outputs": [],
   "source": [
    "regr = LinearRegression()"
   ]
  },
  {
   "cell_type": "markdown",
   "id": "f5ce6a91",
   "metadata": {},
   "source": [
    "原本的x是 1 * 50的向量/陣列\n",
    "現在要把它換成 50 * 1 的向量/陣列\n",
    "\n",
    "array的變數名.reshape(新的形狀)"
   ]
  },
  {
   "cell_type": "code",
   "execution_count": 21,
   "id": "6c331309",
   "metadata": {},
   "outputs": [],
   "source": [
    "X = x.reshape(50,1)"
   ]
  },
  {
   "cell_type": "code",
   "execution_count": 22,
   "id": "3d61bb35",
   "metadata": {},
   "outputs": [
    {
     "data": {
      "text/plain": [
       "array([[0.        ],\n",
       "       [0.10204082],\n",
       "       [0.20408163],\n",
       "       [0.30612245],\n",
       "       [0.40816327],\n",
       "       [0.51020408],\n",
       "       [0.6122449 ],\n",
       "       [0.71428571],\n",
       "       [0.81632653],\n",
       "       [0.91836735],\n",
       "       [1.02040816],\n",
       "       [1.12244898],\n",
       "       [1.2244898 ],\n",
       "       [1.32653061],\n",
       "       [1.42857143],\n",
       "       [1.53061224],\n",
       "       [1.63265306],\n",
       "       [1.73469388],\n",
       "       [1.83673469],\n",
       "       [1.93877551],\n",
       "       [2.04081633],\n",
       "       [2.14285714],\n",
       "       [2.24489796],\n",
       "       [2.34693878],\n",
       "       [2.44897959],\n",
       "       [2.55102041],\n",
       "       [2.65306122],\n",
       "       [2.75510204],\n",
       "       [2.85714286],\n",
       "       [2.95918367],\n",
       "       [3.06122449],\n",
       "       [3.16326531],\n",
       "       [3.26530612],\n",
       "       [3.36734694],\n",
       "       [3.46938776],\n",
       "       [3.57142857],\n",
       "       [3.67346939],\n",
       "       [3.7755102 ],\n",
       "       [3.87755102],\n",
       "       [3.97959184],\n",
       "       [4.08163265],\n",
       "       [4.18367347],\n",
       "       [4.28571429],\n",
       "       [4.3877551 ],\n",
       "       [4.48979592],\n",
       "       [4.59183673],\n",
       "       [4.69387755],\n",
       "       [4.79591837],\n",
       "       [4.89795918],\n",
       "       [5.        ]])"
      ]
     },
     "execution_count": 22,
     "metadata": {},
     "output_type": "execute_result"
    }
   ],
   "source": [
    "X"
   ]
  },
  {
   "cell_type": "markdown",
   "id": "ff909809",
   "metadata": {},
   "source": [
    "讓線性回歸機運作的方法\n",
    "\n",
    "機器的變數名稱.fit(輸入資料,正確答案)"
   ]
  },
  {
   "cell_type": "code",
   "execution_count": 23,
   "id": "e3521c3f",
   "metadata": {},
   "outputs": [
    {
     "data": {
      "text/plain": [
       "LinearRegression()"
      ]
     },
     "execution_count": 23,
     "metadata": {},
     "output_type": "execute_result"
    }
   ],
   "source": [
    "regr.fit(X,y)"
   ]
  },
  {
   "cell_type": "markdown",
   "id": "ea9f8d20",
   "metadata": {},
   "source": [
    "Y 是預測答案\n",
    "\n",
    "開始預測的方法 : \n",
    "機器的變數名稱.predict(輸入資料)"
   ]
  },
  {
   "cell_type": "code",
   "execution_count": 25,
   "id": "adebf40a",
   "metadata": {},
   "outputs": [],
   "source": [
    "Y = regr.predict(X)"
   ]
  },
  {
   "cell_type": "code",
   "execution_count": 27,
   "id": "3a57d98e",
   "metadata": {},
   "outputs": [
    {
     "data": {
      "text/plain": [
       "[<matplotlib.lines.Line2D at 0x1e37f991b20>]"
      ]
     },
     "execution_count": 27,
     "metadata": {},
     "output_type": "execute_result"
    },
    {
     "data": {
      "image/png": "[encoded data removed]",
      "text/plain": [
       "<Figure size 432x288 with 1 Axes>"
      ]
     },
     "metadata": {
      "needs_background": "light"
     },
     "output_type": "display_data"
    }
   ],
   "source": [
    "plt.scatter(x,y) #資料\n",
    "plt.plot(x,Y,\"g\") #預測的線型函數\n",
    "plt.plot(x,1.2*x + 0.8,\"r\") #完美答案"
   ]
  }
 ],
 "metadata": {
  "kernelspec": {
   "display_name": "Python 3 (ipykernel)",
   "language": "python",
   "name": "python3"
  },
  "language_info": {
   "codemirror_mode": {
    "name": "ipython",
    "version": 3
   },
   "file_extension": ".py",
   "mimetype": "text/x-python",
   "name": "python",
   "nbconvert_exporter": "python",
   "pygments_lexer": "ipython3",
   "version": "3.9.7"
  }
 },
 "nbformat": 4,
 "nbformat_minor": 5
}
