{
 "cells": [
  {
   "cell_type": "markdown",
   "id": "42127cd6",
   "metadata": {},
   "source": [
    "可以不要用迴圈，那就不要用(計算速度上的問題)\n",
    "改用array"
   ]
  },
  {
   "cell_type": "code",
   "execution_count": 2,
   "id": "cf5cdd7e",
   "metadata": {},
   "outputs": [],
   "source": [
    "%matplotlib inline\n",
    "import numpy as np\n",
    "import matplotlib.pyplot as plt "
   ]
  },
  {
   "cell_type": "markdown",
   "id": "f7b33301",
   "metadata": {},
   "source": [
    "### 有三支手錶，把他們的價格從美金轉成台幣，用array 不用迴圈"
   ]
  },
  {
   "cell_type": "code",
   "execution_count": 4,
   "id": "23265dbc",
   "metadata": {},
   "outputs": [],
   "source": [
    "watch=[212,319,640]"
   ]
  },
  {
   "cell_type": "code",
   "execution_count": 5,
   "id": "5ffaa752",
   "metadata": {},
   "outputs": [],
   "source": [
    "rate=30"
   ]
  },
  {
   "cell_type": "markdown",
   "id": "676aee69",
   "metadata": {},
   "source": [
    "把list轉成array的方法: array名 = np,array(list名)"
   ]
  },
  {
   "cell_type": "code",
   "execution_count": null,
   "id": "50d846ed",
   "metadata": {},
   "outputs": [],
   "source": [
    "ntDollar = np.array(watch)  "
   ]
  },
  {
   "cell_type": "code",
   "execution_count": 7,
   "id": "3a2b7ade",
   "metadata": {},
   "outputs": [
    {
     "data": {
      "text/plain": [
       "array([212, 319, 640])"
      ]
     },
     "execution_count": 7,
     "metadata": {},
     "output_type": "execute_result"
    }
   ],
   "source": [
    "ntDollar"
   ]
  },
  {
   "cell_type": "code",
   "execution_count": 8,
   "id": "af79391e",
   "metadata": {},
   "outputs": [
    {
     "name": "stdout",
     "output_type": "stream",
     "text": [
      "[212 319 640]\n"
     ]
    }
   ],
   "source": [
    "print(ntDollar)"
   ]
  },
  {
   "cell_type": "markdown",
   "id": "6e1fba51",
   "metadata": {},
   "source": [
    "做類似向量的運算，我也不知道甚麼是向量"
   ]
  },
  {
   "cell_type": "code",
   "execution_count": 9,
   "id": "0ad2cd5c",
   "metadata": {},
   "outputs": [
    {
     "data": {
      "text/plain": [
       "array([ 6360,  9570, 19200])"
      ]
     },
     "execution_count": 9,
     "metadata": {},
     "output_type": "execute_result"
    }
   ],
   "source": [
    "ntDollar*rate "
   ]
  },
  {
   "cell_type": "code",
   "execution_count": 11,
   "id": "b1f6d73f",
   "metadata": {},
   "outputs": [
    {
     "name": "stdout",
     "output_type": "stream",
     "text": [
      "[ 6360  9570 19200]\n"
     ]
    }
   ],
   "source": [
    "print(ntDollar*rate) #為甚麼印出來會空格而且沒有逗號咧"
   ]
  }
 ],
 "metadata": {
  "kernelspec": {
   "display_name": "Python 3 (ipykernel)",
   "language": "python",
   "name": "python3"
  },
  "language_info": {
   "codemirror_mode": {
    "name": "ipython",
    "version": 3
   },
   "file_extension": ".py",
   "mimetype": "text/x-python",
   "name": "python",
   "nbconvert_exporter": "python",
   "pygments_lexer": "ipython3",
   "version": "3.9.7"
  }
 },
 "nbformat": 4,
 "nbformat_minor": 5
}
