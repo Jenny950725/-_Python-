{
 "cells": [
  {
   "cell_type": "markdown",
   "id": "cf54bbec",
   "metadata": {},
   "source": [
    "## 印出 Hello,World"
   ]
  },
  {
   "cell_type": "markdown",
   "id": "a89487da",
   "metadata": {},
   "source": [
    "print後括號 內放引號 引號內放要印的東西"
   ]
  },
  {
   "cell_type": "code",
   "execution_count": 1,
   "id": "4a1cece8",
   "metadata": {},
   "outputs": [
    {
     "name": "stdout",
     "output_type": "stream",
     "text": [
      "Hello,World\n"
     ]
    }
   ],
   "source": [
    "print(\"Hello,World\")"
   ]
  },
  {
   "cell_type": "markdown",
   "id": "e5410e6b",
   "metadata": {},
   "source": [
    "也可先設變數 把要印的東西賦值給變數"
   ]
  },
  {
   "cell_type": "code",
   "execution_count": 7,
   "id": "3314879a",
   "metadata": {},
   "outputs": [
    {
     "name": "stdout",
     "output_type": "stream",
     "text": [
      "chiachen\n"
     ]
    }
   ],
   "source": [
    "name = \"chiachen\"\n",
    "print(name)"
   ]
  },
  {
   "cell_type": "code",
   "execution_count": 4,
   "id": "d2325c62",
   "metadata": {},
   "outputs": [
    {
     "data": {
      "text/plain": [
       "'chiachen'"
      ]
     },
     "execution_count": 4,
     "metadata": {},
     "output_type": "execute_result"
    }
   ],
   "source": [
    "name"
   ]
  },
  {
   "cell_type": "markdown",
   "id": "b21c35be",
   "metadata": {},
   "source": [
    "單雙引號可通用，只是必須統一，不能前面後面不一致"
   ]
  },
  {
   "cell_type": "markdown",
   "id": "86fc4f02",
   "metadata": {},
   "source": [
    "## 字串可以相加"
   ]
  },
  {
   "cell_type": "code",
   "execution_count": 6,
   "id": "9643e2a6",
   "metadata": {},
   "outputs": [
    {
     "data": {
      "text/plain": [
       "'Hello, chiachen!'"
      ]
     },
     "execution_count": 6,
     "metadata": {},
     "output_type": "execute_result"
    }
   ],
   "source": [
    "\"Hello, \" + name + \"!\""
   ]
  },
  {
   "cell_type": "code",
   "execution_count": 9,
   "id": "787e8846",
   "metadata": {},
   "outputs": [
    {
     "name": "stdout",
     "output_type": "stream",
     "text": [
      "Hello, chiachen!\n"
     ]
    }
   ],
   "source": [
    "name = \"chiachen\"\n",
    "print(\"Hello, \" + name +\"!\")\n",
    "#字串相加跟List相加很像，他就把兩個東西前後串起來"
   ]
  },
  {
   "cell_type": "markdown",
   "id": "6934ef9e",
   "metadata": {},
   "source": [
    "## 把字串乘以k倍"
   ]
  },
  {
   "cell_type": "code",
   "execution_count": 10,
   "id": "e74b1b5a",
   "metadata": {},
   "outputs": [
    {
     "data": {
      "text/plain": [
       "'chiachenchiachenchiachen'"
      ]
     },
     "execution_count": 10,
     "metadata": {},
     "output_type": "execute_result"
    }
   ],
   "source": [
    "3 * name"
   ]
  },
  {
   "cell_type": "markdown",
   "id": "6072d1b6",
   "metadata": {},
   "source": [
    "## 三引號可換行"
   ]
  },
  {
   "cell_type": "code",
   "execution_count": 23,
   "id": "69c73902",
   "metadata": {},
   "outputs": [],
   "source": [
    "message = '''自主學習\n",
    "才第二周\n",
    "我的進度就已經落後了\n",
    "但是學有興趣的東西很快樂\n",
    "'''"
   ]
  },
  {
   "cell_type": "code",
   "execution_count": 17,
   "id": "7db3e6c4",
   "metadata": {},
   "outputs": [
    {
     "name": "stdout",
     "output_type": "stream",
     "text": [
      "自主學習\n",
      "才第二周\n",
      "我的進度就已經落後了\n",
      "但是學有興趣的東西很快樂\n",
      "\n"
     ]
    }
   ],
   "source": [
    "print(message)"
   ]
  },
  {
   "cell_type": "code",
   "execution_count": 13,
   "id": "538516a7",
   "metadata": {},
   "outputs": [
    {
     "data": {
      "text/plain": [
       "'自主學習\\n才第二周\\n我的進度就已經落後了\\n但是學有興趣的東西很快樂\\n'"
      ]
     },
     "execution_count": 13,
     "metadata": {},
     "output_type": "execute_result"
    }
   ],
   "source": [
    "message"
   ]
  },
  {
   "cell_type": "markdown",
   "id": "43667561",
   "metadata": {},
   "source": [
    "\"\\n\"在c++有出現過，也是拿來換行的"
   ]
  },
  {
   "cell_type": "code",
   "execution_count": 22,
   "id": "0602ff49",
   "metadata": {},
   "outputs": [],
   "source": [
    "message = \"\"\"自主學習\n",
    "才第二周\n",
    "我的進度就已經落後了\n",
    "但是學有興趣的東西很快樂\n",
    "\"\"\""
   ]
  },
  {
   "cell_type": "markdown",
   "id": "90882f6c",
   "metadata": {},
   "source": [
    "單雙引號可通用"
   ]
  },
  {
   "cell_type": "code",
   "execution_count": 18,
   "id": "7381b1cb",
   "metadata": {},
   "outputs": [
    {
     "name": "stdout",
     "output_type": "stream",
     "text": [
      "自主學習\n",
      "才第二周\n",
      "我的進度就已經落後了\n",
      "但是學有興趣的東西很快樂\n",
      "\n"
     ]
    }
   ],
   "source": [
    "print(message) "
   ]
  },
  {
   "cell_type": "code",
   "execution_count": 19,
   "id": "1f42f3ae",
   "metadata": {},
   "outputs": [],
   "source": [
    "message = \"自主學習\\n才第二周\\n我的進度就已經落後了\\n但是學有興趣的東西很快樂\""
   ]
  },
  {
   "cell_type": "code",
   "execution_count": 20,
   "id": "d7ca0575",
   "metadata": {},
   "outputs": [
    {
     "name": "stdout",
     "output_type": "stream",
     "text": [
      "自主學習\n",
      "才第二周\n",
      "我的進度就已經落後了\n",
      "但是學有興趣的東西很快樂\n"
     ]
    }
   ],
   "source": [
    "print(message)"
   ]
  },
  {
   "cell_type": "markdown",
   "id": "10b4ceb0",
   "metadata": {},
   "source": [
    "發現直接加\\n也可以!!!!!!!!!"
   ]
  },
  {
   "cell_type": "code",
   "execution_count": null,
   "id": "2cd3239c",
   "metadata": {},
   "outputs": [],
   "source": []
  }
 ],
 "metadata": {
  "kernelspec": {
   "display_name": "Python 3 (ipykernel)",
   "language": "python",
   "name": "python3"
  },
  "language_info": {
   "codemirror_mode": {
    "name": "ipython",
    "version": 3
   },
   "file_extension": ".py",
   "mimetype": "text/x-python",
   "name": "python",
   "nbconvert_exporter": "python",
   "pygments_lexer": "ipython3",
   "version": "3.9.7"
  }
 },
 "nbformat": 4,
 "nbformat_minor": 5
}
