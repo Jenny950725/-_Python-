{
 "cells": [
  {
   "cell_type": "code",
   "execution_count": 1,
   "id": "75f42a02",
   "metadata": {},
   "outputs": [
    {
     "name": "stdout",
     "output_type": "stream",
     "text": [
      "Populating the interactive namespace from numpy and matplotlib\n"
     ]
    }
   ],
   "source": [
    "%pylab inline"
   ]
  },
  {
   "cell_type": "code",
   "execution_count": 2,
   "id": "10012cea",
   "metadata": {},
   "outputs": [
    {
     "data": {
      "text/plain": [
       "7"
      ]
     },
     "execution_count": 2,
     "metadata": {},
     "output_type": "execute_result"
    }
   ],
   "source": [
    "randint(1,21) #取>=1,<21 也就是1~20的亂數"
   ]
  },
  {
   "cell_type": "code",
   "execution_count": 3,
   "id": "ccc9f836",
   "metadata": {},
   "outputs": [
    {
     "name": "stdout",
     "output_type": "stream",
     "text": [
      "                       *\n",
      "                              *\n",
      "                   *\n",
      "                                    *\n",
      "                                               *\n",
      "                           *\n",
      "         *\n",
      "                                *\n",
      "                  *\n",
      "            *\n"
     ]
    }
   ],
   "source": [
    "for i in range(10):\n",
    "    m = randint(1,51)\n",
    "    print(\" \" * m + \"*\")"
   ]
  },
  {
   "cell_type": "markdown",
   "id": "4d771f43",
   "metadata": {},
   "source": [
    "### 猜數字遊戲"
   ]
  },
  {
   "cell_type": "code",
   "execution_count": null,
   "id": "6128e4d3",
   "metadata": {},
   "outputs": [],
   "source": [
    "num = randint(1,5)\n",
    "guess = input(\">>\")\n",
    "while guess != num:\n",
    "    if (int(guess) = num):\n",
    "        print(\"right!\")\n",
    "    elif (int(guess) < num):\n",
    "        print(\"bigger\") \n",
    "    else:\n",
    "        print(\"smaller\")\n",
    "    guess = input(\">>\")"
   ]
  },
  {
   "cell_type": "code",
   "execution_count": null,
   "id": "b8a8f63c",
   "metadata": {},
   "outputs": [],
   "source": []
  }
 ],
 "metadata": {
  "kernelspec": {
   "display_name": "Python 3 (ipykernel)",
   "language": "python",
   "name": "python3"
  },
  "language_info": {
   "codemirror_mode": {
    "name": "ipython",
    "version": 3
   },
   "file_extension": ".py",
   "mimetype": "text/x-python",
   "name": "python",
   "nbconvert_exporter": "python",
   "pygments_lexer": "ipython3",
   "version": "3.9.7"
  }
 },
 "nbformat": 4,
 "nbformat_minor": 5
}
