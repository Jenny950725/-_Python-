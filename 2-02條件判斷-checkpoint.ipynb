{
 "cells": [
  {
   "attachments": {},
   "cell_type": "markdown",
   "id": "5c5a145d",
   "metadata": {},
   "source": [
    "== 等於\n",
    "\n",
    "!= 不等於\n",
    "\n",
    "=  賦值"
   ]
  },
  {
   "cell_type": "code",
   "execution_count": 1,
   "id": "874b3f0c",
   "metadata": {},
   "outputs": [
    {
     "data": {
      "text/plain": [
       "True"
      ]
     },
     "execution_count": 1,
     "metadata": {},
     "output_type": "execute_result"
    }
   ],
   "source": [
    "5 > 3"
   ]
  },
  {
   "cell_type": "code",
   "execution_count": 2,
   "id": "68f3c905",
   "metadata": {},
   "outputs": [
    {
     "data": {
      "text/plain": [
       "False"
      ]
     },
     "execution_count": 2,
     "metadata": {},
     "output_type": "execute_result"
    }
   ],
   "source": [
    "5 > 7 "
   ]
  },
  {
   "cell_type": "code",
   "execution_count": 3,
   "id": "20edc900",
   "metadata": {},
   "outputs": [
    {
     "data": {
      "text/plain": [
       "False"
      ]
     },
     "execution_count": 3,
     "metadata": {},
     "output_type": "execute_result"
    }
   ],
   "source": [
    "4 <= 3 "
   ]
  },
  {
   "cell_type": "code",
   "execution_count": 4,
   "id": "4322e7c1",
   "metadata": {},
   "outputs": [
    {
     "data": {
      "text/plain": [
       "True"
      ]
     },
     "execution_count": 4,
     "metadata": {},
     "output_type": "execute_result"
    }
   ],
   "source": [
    "4 >= 3"
   ]
  },
  {
   "cell_type": "code",
   "execution_count": 5,
   "id": "d861fb90",
   "metadata": {},
   "outputs": [
    {
     "data": {
      "text/plain": [
       "True"
      ]
     },
     "execution_count": 5,
     "metadata": {},
     "output_type": "execute_result"
    }
   ],
   "source": [
    "a = 4\n",
    "a > 3"
   ]
  },
  {
   "cell_type": "code",
   "execution_count": 6,
   "id": "f503a82b",
   "metadata": {},
   "outputs": [
    {
     "data": {
      "text/plain": [
       "False"
      ]
     },
     "execution_count": 6,
     "metadata": {},
     "output_type": "execute_result"
    }
   ],
   "source": [
    "a == 5    "
   ]
  },
  {
   "cell_type": "code",
   "execution_count": 7,
   "id": "52296bd0",
   "metadata": {},
   "outputs": [
    {
     "data": {
      "text/plain": [
       "True"
      ]
     },
     "execution_count": 7,
     "metadata": {},
     "output_type": "execute_result"
    }
   ],
   "source": [
    "a == 4"
   ]
  },
  {
   "cell_type": "code",
   "execution_count": 8,
   "id": "14347597",
   "metadata": {},
   "outputs": [
    {
     "data": {
      "text/plain": [
       "False"
      ]
     },
     "execution_count": 8,
     "metadata": {},
     "output_type": "execute_result"
    }
   ],
   "source": [
    "a != 4"
   ]
  },
  {
   "cell_type": "markdown",
   "id": "8fb39e0d",
   "metadata": {},
   "source": [
    "用英文字母的編碼比較大小"
   ]
  },
  {
   "cell_type": "code",
   "execution_count": 9,
   "id": "b0e30e9f",
   "metadata": {},
   "outputs": [
    {
     "data": {
      "text/plain": [
       "True"
      ]
     },
     "execution_count": 9,
     "metadata": {},
     "output_type": "execute_result"
    }
   ],
   "source": [
    "\"E\" > \"D\""
   ]
  },
  {
   "cell_type": "code",
   "execution_count": 10,
   "id": "cb0b28d5",
   "metadata": {},
   "outputs": [
    {
     "data": {
      "text/plain": [
       "False"
      ]
     },
     "execution_count": 10,
     "metadata": {},
     "output_type": "execute_result"
    }
   ],
   "source": [
    "\"A\" > \"R\""
   ]
  },
  {
   "cell_type": "markdown",
   "id": "c7b515da",
   "metadata": {},
   "source": [
    "## AND OR"
   ]
  },
  {
   "cell_type": "markdown",
   "id": "e3bbf835",
   "metadata": {},
   "source": [
    "and:全都要是對的\n",
    "or:其中一個是對的即可"
   ]
  },
  {
   "cell_type": "code",
   "execution_count": 11,
   "id": "fe2076a2",
   "metadata": {},
   "outputs": [],
   "source": [
    "num = 477"
   ]
  },
  {
   "cell_type": "code",
   "execution_count": 12,
   "id": "dc2c129d",
   "metadata": {},
   "outputs": [
    {
     "data": {
      "text/plain": [
       "True"
      ]
     },
     "execution_count": 12,
     "metadata": {},
     "output_type": "execute_result"
    }
   ],
   "source": [
    "(num>4) and (num<4999)"
   ]
  },
  {
   "cell_type": "code",
   "execution_count": 13,
   "id": "c8448d9e",
   "metadata": {},
   "outputs": [
    {
     "data": {
      "text/plain": [
       "True"
      ]
     },
     "execution_count": 13,
     "metadata": {},
     "output_type": "execute_result"
    }
   ],
   "source": [
    "(num>4) or (num<43)"
   ]
  },
  {
   "cell_type": "markdown",
   "id": "b060a281",
   "metadata": {},
   "source": [
    "要判斷的東西用括號包起來 python比較好判斷"
   ]
  }
 ],
 "metadata": {
  "kernelspec": {
   "display_name": "Python 3 (ipykernel)",
   "language": "python",
   "name": "python3"
  },
  "language_info": {
   "codemirror_mode": {
    "name": "ipython",
    "version": 3
   },
   "file_extension": ".py",
   "mimetype": "text/x-python",
   "name": "python",
   "nbconvert_exporter": "python",
   "pygments_lexer": "ipython3",
   "version": "3.9.7"
  }
 },
 "nbformat": 4,
 "nbformat_minor": 5
}
