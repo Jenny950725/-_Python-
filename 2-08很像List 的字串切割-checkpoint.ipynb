{
 "cells": [
  {
   "cell_type": "markdown",
   "id": "0e5541e6",
   "metadata": {},
   "source": [
    "## 字串也可以向List一樣被切割"
   ]
  },
  {
   "cell_type": "code",
   "execution_count": 1,
   "id": "8a7dba90",
   "metadata": {},
   "outputs": [],
   "source": [
    "string = \"todayIdMonday\""
   ]
  },
  {
   "cell_type": "code",
   "execution_count": 7,
   "id": "47bfde30",
   "metadata": {},
   "outputs": [
    {
     "data": {
      "text/plain": [
       "'y'"
      ]
     },
     "execution_count": 7,
     "metadata": {},
     "output_type": "execute_result"
    }
   ],
   "source": [
    "string[4]"
   ]
  },
  {
   "cell_type": "code",
   "execution_count": 8,
   "id": "735033a8",
   "metadata": {},
   "outputs": [
    {
     "data": {
      "text/plain": [
       "'ayI'"
      ]
     },
     "execution_count": 8,
     "metadata": {},
     "output_type": "execute_result"
    }
   ],
   "source": [
    "string[3:6]"
   ]
  },
  {
   "cell_type": "code",
   "execution_count": 4,
   "id": "c2f80e2b",
   "metadata": {},
   "outputs": [],
   "source": [
    "name = \"李佳宸\""
   ]
  },
  {
   "cell_type": "code",
   "execution_count": 5,
   "id": "149cdb6a",
   "metadata": {},
   "outputs": [
    {
     "data": {
      "text/plain": [
       "'李佳宸'"
      ]
     },
     "execution_count": 5,
     "metadata": {},
     "output_type": "execute_result"
    }
   ],
   "source": [
    "name[:]"
   ]
  },
  {
   "cell_type": "code",
   "execution_count": 6,
   "id": "2ec7ac93",
   "metadata": {},
   "outputs": [
    {
     "data": {
      "text/plain": [
       "'佳宸'"
      ]
     },
     "execution_count": 6,
     "metadata": {},
     "output_type": "execute_result"
    }
   ],
   "source": [
    "name[1:]"
   ]
  },
  {
   "cell_type": "code",
   "execution_count": 11,
   "id": "cd28048c",
   "metadata": {},
   "outputs": [
    {
     "data": {
      "text/plain": [
       "'佳'"
      ]
     },
     "execution_count": 11,
     "metadata": {},
     "output_type": "execute_result"
    }
   ],
   "source": [
    "name[-2]"
   ]
  }
 ],
 "metadata": {
  "kernelspec": {
   "display_name": "Python 3 (ipykernel)",
   "language": "python",
   "name": "python3"
  },
  "language_info": {
   "codemirror_mode": {
    "name": "ipython",
    "version": 3
   },
   "file_extension": ".py",
   "mimetype": "text/x-python",
   "name": "python",
   "nbconvert_exporter": "python",
   "pygments_lexer": "ipython3",
   "version": "3.9.7"
  }
 },
 "nbformat": 4,
 "nbformat_minor": 5
}
