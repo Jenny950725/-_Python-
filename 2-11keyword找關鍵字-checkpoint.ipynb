{
 "cells": [
  {
   "cell_type": "code",
   "execution_count": 3,
   "id": "14a3198c",
   "metadata": {},
   "outputs": [],
   "source": [
    "keyword = \"python\""
   ]
  },
  {
   "cell_type": "code",
   "execution_count": 4,
   "id": "4f189892",
   "metadata": {},
   "outputs": [],
   "source": [
    "message = \"我今天學python四個小時\""
   ]
  },
  {
   "cell_type": "code",
   "execution_count": 5,
   "id": "9eaeb72e",
   "metadata": {},
   "outputs": [
    {
     "data": {
      "text/plain": [
       "True"
      ]
     },
     "execution_count": 5,
     "metadata": {},
     "output_type": "execute_result"
    }
   ],
   "source": [
    "keyword in message"
   ]
  },
  {
   "cell_type": "markdown",
   "id": "91d1d38e",
   "metadata": {},
   "source": [
    "英文也可以找keyword"
   ]
  },
  {
   "cell_type": "code",
   "execution_count": 6,
   "id": "0e272949",
   "metadata": {},
   "outputs": [],
   "source": [
    "keyword = \"thon\""
   ]
  },
  {
   "cell_type": "code",
   "execution_count": 7,
   "id": "58a24ca0",
   "metadata": {},
   "outputs": [],
   "source": [
    "message = \"我今天學python四個小時\""
   ]
  },
  {
   "cell_type": "code",
   "execution_count": 8,
   "id": "a21715d7",
   "metadata": {},
   "outputs": [
    {
     "data": {
      "text/plain": [
       "True"
      ]
     },
     "execution_count": 8,
     "metadata": {},
     "output_type": "execute_result"
    }
   ],
   "source": [
    "keyword in message"
   ]
  },
  {
   "cell_type": "markdown",
   "id": "57ac78cc",
   "metadata": {},
   "source": [
    "中間完全不能有相異處才行"
   ]
  },
  {
   "cell_type": "code",
   "execution_count": 9,
   "id": "6fdb165e",
   "metadata": {},
   "outputs": [],
   "source": [
    "keyw = \"pyn\""
   ]
  },
  {
   "cell_type": "code",
   "execution_count": 10,
   "id": "5cc4b204",
   "metadata": {},
   "outputs": [
    {
     "data": {
      "text/plain": [
       "False"
      ]
     },
     "execution_count": 10,
     "metadata": {},
     "output_type": "execute_result"
    }
   ],
   "source": [
    "keyw in message"
   ]
  },
  {
   "cell_type": "code",
   "execution_count": 11,
   "id": "b995e120",
   "metadata": {},
   "outputs": [
    {
     "data": {
      "text/plain": [
       "True"
      ]
     },
     "execution_count": 11,
     "metadata": {},
     "output_type": "execute_result"
    }
   ],
   "source": [
    "bla = \"奇怪\"\n",
    "line = \"你真的很奇怪\"\n",
    "bla in line"
   ]
  },
  {
   "cell_type": "markdown",
   "id": "46789a9d",
   "metadata": {},
   "source": [
    "in 可以拿來檢查字串或串列裡有沒有我們要的關鍵字"
   ]
  },
  {
   "cell_type": "code",
   "execution_count": 12,
   "id": "df71b2d3",
   "metadata": {},
   "outputs": [],
   "source": [
    "l = [2,5,3,6,-3]"
   ]
  },
  {
   "cell_type": "code",
   "execution_count": 13,
   "id": "64d9910c",
   "metadata": {},
   "outputs": [
    {
     "data": {
      "text/plain": [
       "False"
      ]
     },
     "execution_count": 13,
     "metadata": {},
     "output_type": "execute_result"
    }
   ],
   "source": [
    "22 in l"
   ]
  }
 ],
 "metadata": {
  "kernelspec": {
   "display_name": "Python 3 (ipykernel)",
   "language": "python",
   "name": "python3"
  },
  "language_info": {
   "codemirror_mode": {
    "name": "ipython",
    "version": 3
   },
   "file_extension": ".py",
   "mimetype": "text/x-python",
   "name": "python",
   "nbconvert_exporter": "python",
   "pygments_lexer": "ipython3",
   "version": "3.9.7"
  }
 },
 "nbformat": 4,
 "nbformat_minor": 5
}
