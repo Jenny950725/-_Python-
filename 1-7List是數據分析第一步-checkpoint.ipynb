{
 "cells": [
  {
   "cell_type": "markdown",
   "id": "cc1623da",
   "metadata": {},
   "source": [
    "## List是一種資料型態\n",
    "## 就像變數的資料型態可以是浮點數或整數等等，變數的資料型態可以是List"
   ]
  },
  {
   "cell_type": "markdown",
   "id": "161db337",
   "metadata": {},
   "source": [
    "### 定義串列List"
   ]
  },
  {
   "cell_type": "code",
   "execution_count": 5,
   "id": "13e7a8f6",
   "metadata": {},
   "outputs": [],
   "source": [
    "L = [4,6,2,6,8,9,]"
   ]
  },
  {
   "cell_type": "markdown",
   "id": "054f913d",
   "metadata": {},
   "source": [
    "大括號內用逗號隔開的，不一定要是數字，也可以是字，但在做數據分析時，就是數字\n",
    "\n",
    "串列想要列多長都可以"
   ]
  },
  {
   "cell_type": "code",
   "execution_count": 7,
   "id": "f870da27",
   "metadata": {},
   "outputs": [
    {
     "name": "stdout",
     "output_type": "stream",
     "text": [
      "Populating the interactive namespace from numpy and matplotlib\n"
     ]
    }
   ],
   "source": [
    "%pylab inline \n",
    "#魔術指令"
   ]
  },
  {
   "cell_type": "markdown",
   "id": "829d02db",
   "metadata": {},
   "source": [
    "用plot畫圖"
   ]
  },
  {
   "cell_type": "code",
   "execution_count": 8,
   "id": "5e1ec0ac",
   "metadata": {},
   "outputs": [
    {
     "data": {
      "text/plain": [
       "[<matplotlib.lines.Line2D at 0x22f0bc76820>]"
      ]
     },
     "execution_count": 8,
     "metadata": {},
     "output_type": "execute_result"
    },
    {
     "data": {
      "image/png": "[encoded data removed]",
      "text/plain": [
       "<Figure size 432x288 with 1 Axes>"
      ]
     },
     "metadata": {
      "needs_background": "light"
     },
     "output_type": "display_data"
    }
   ],
   "source": [
    "plot(L)"
   ]
  },
  {
   "cell_type": "markdown",
   "id": "a34b881b",
   "metadata": {},
   "source": [
    "串列可以重新定義(就像變數可以重新賦值)"
   ]
  },
  {
   "cell_type": "code",
   "execution_count": 9,
   "id": "700d60f7",
   "metadata": {},
   "outputs": [],
   "source": [
    "L = [6,35,78,23,-6]\n",
    "G = [34,7,2,-23,6]"
   ]
  },
  {
   "cell_type": "markdown",
   "id": "02ade7fd",
   "metadata": {},
   "source": [
    "## 串列之間可以加減乘除嗎"
   ]
  },
  {
   "cell_type": "markdown",
   "id": "379d468c",
   "metadata": {},
   "source": [
    "### 相加\n",
    "是把兩個串列串起來\n",
    "\n",
    "不是第一項加第一項成為新串列的第一項、第二項加第二項成為新串列的第二項"
   ]
  },
  {
   "cell_type": "code",
   "execution_count": 10,
   "id": "ce939911",
   "metadata": {},
   "outputs": [
    {
     "data": {
      "text/plain": [
       "[6, 35, 78, 23, -6, 34, 7, 2, -23, 6]"
      ]
     },
     "execution_count": 10,
     "metadata": {},
     "output_type": "execute_result"
    }
   ],
   "source": [
    "L + G"
   ]
  },
  {
   "cell_type": "markdown",
   "id": "7c2a53b3",
   "metadata": {},
   "source": [
    "### 相減\n",
    "完全不行"
   ]
  },
  {
   "cell_type": "code",
   "execution_count": 11,
   "id": "8dbc13ee",
   "metadata": {},
   "outputs": [
    {
     "ename": "TypeError",
     "evalue": "unsupported operand type(s) for -: 'list' and 'list'",
     "output_type": "error",
     "traceback": [
      "\u001b[1;31m---------------------------------------------------------------------------\u001b[0m",
      "\u001b[1;31mTypeError\u001b[0m                                 Traceback (most recent call last)",
      "\u001b[1;32m~\\AppData\\Local\\Temp/ipykernel_23152/757313449.py\u001b[0m in \u001b[0;36m<module>\u001b[1;34m\u001b[0m\n\u001b[1;32m----> 1\u001b[1;33m \u001b[0mL\u001b[0m \u001b[1;33m-\u001b[0m \u001b[0mG\u001b[0m\u001b[1;33m\u001b[0m\u001b[1;33m\u001b[0m\u001b[0m\n\u001b[0m",
      "\u001b[1;31mTypeError\u001b[0m: unsupported operand type(s) for -: 'list' and 'list'"
     ]
    }
   ],
   "source": [
    "L - G "
   ]
  },
  {
   "cell_type": "markdown",
   "id": "399e01bd",
   "metadata": {},
   "source": [
    "## 純量乘法 將串列乘以一個整數\n",
    "只是把字串的內容重複三次"
   ]
  },
  {
   "cell_type": "code",
   "execution_count": 14,
   "id": "e780864c",
   "metadata": {},
   "outputs": [
    {
     "data": {
      "text/plain": [
       "[6, 35, 78, 23, -6, 6, 35, 78, 23, -6, 6, 35, 78, 23, -6]"
      ]
     },
     "execution_count": 14,
     "metadata": {},
     "output_type": "execute_result"
    }
   ],
   "source": [
    "L * 3 "
   ]
  }
 ],
 "metadata": {
  "kernelspec": {
   "display_name": "Python 3 (ipykernel)",
   "language": "python",
   "name": "python3"
  },
  "language_info": {
   "codemirror_mode": {
    "name": "ipython",
    "version": 3
   },
   "file_extension": ".py",
   "mimetype": "text/x-python",
   "name": "python",
   "nbconvert_exporter": "python",
   "pygments_lexer": "ipython3",
   "version": "3.9.7"
  }
 },
 "nbformat": 4,
 "nbformat_minor": 5
}
