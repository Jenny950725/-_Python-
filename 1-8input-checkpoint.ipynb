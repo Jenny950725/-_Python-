{
 "cells": [
  {
   "cell_type": "markdown",
   "id": "c1941237",
   "metadata": {},
   "source": [
    "讓使用者輸入一個數字a\n",
    "\n",
    "變數名 = input(\"要先給使用者看到的提示\")"
   ]
  },
  {
   "cell_type": "code",
   "execution_count": 1,
   "id": "8d925a9e",
   "metadata": {},
   "outputs": [
    {
     "name": "stdout",
     "output_type": "stream",
     "text": [
      "a = 35\n"
     ]
    }
   ],
   "source": [
    "a = input(\"a = \")"
   ]
  },
  {
   "cell_type": "markdown",
   "id": "90877448",
   "metadata": {},
   "source": [
    "輸入的東西會被認為是字串"
   ]
  },
  {
   "cell_type": "code",
   "execution_count": 2,
   "id": "958e7d89",
   "metadata": {},
   "outputs": [
    {
     "data": {
      "text/plain": [
       "'35'"
      ]
     },
     "execution_count": 2,
     "metadata": {},
     "output_type": "execute_result"
    }
   ],
   "source": [
    "a "
   ]
  },
  {
   "cell_type": "markdown",
   "id": "6df77511",
   "metadata": {},
   "source": [
    "## 匯率換算"
   ]
  },
  {
   "cell_type": "code",
   "execution_count": 6,
   "id": "afd60d9b",
   "metadata": {},
   "outputs": [
    {
     "name": "stdout",
     "output_type": "stream",
     "text": [
      "美元: 40\n"
     ]
    }
   ],
   "source": [
    "dollar = input(\"美元: \")"
   ]
  },
  {
   "cell_type": "markdown",
   "id": "d55d4b35",
   "metadata": {},
   "source": [
    "能正常運作，但現在30的資料型態是字串，所以只會重複字串30次，要把資料型態轉成float(匯率會有可能是小數)"
   ]
  },
  {
   "cell_type": "code",
   "execution_count": 8,
   "id": "ab48bd0d",
   "metadata": {},
   "outputs": [
    {
     "name": "stdout",
     "output_type": "stream",
     "text": [
      "404040404040404040404040404040404040404040404040404040404040\n"
     ]
    }
   ],
   "source": [
    "nt = dollar * 30\n",
    "print(n) "
   ]
  },
  {
   "cell_type": "markdown",
   "id": "21bba49c",
   "metadata": {},
   "source": [
    "字串不能重複30.5次，程序出現錯誤"
   ]
  },
  {
   "cell_type": "code",
   "execution_count": 13,
   "id": "f0358e2c",
   "metadata": {},
   "outputs": [
    {
     "ename": "TypeError",
     "evalue": "can't multiply sequence by non-int of type 'float'",
     "output_type": "error",
     "traceback": [
      "\u001b[1;31m---------------------------------------------------------------------------\u001b[0m",
      "\u001b[1;31mTypeError\u001b[0m                                 Traceback (most recent call last)",
      "\u001b[1;32m~\\AppData\\Local\\Temp/ipykernel_10524/384726089.py\u001b[0m in \u001b[0;36m<module>\u001b[1;34m\u001b[0m\n\u001b[1;32m----> 1\u001b[1;33m \u001b[0mnt\u001b[0m \u001b[1;33m=\u001b[0m \u001b[0mdollar\u001b[0m \u001b[1;33m*\u001b[0m \u001b[1;36m30.5\u001b[0m\u001b[1;33m\u001b[0m\u001b[1;33m\u001b[0m\u001b[0m\n\u001b[0m\u001b[0;32m      2\u001b[0m \u001b[0mprint\u001b[0m\u001b[1;33m(\u001b[0m\u001b[0mn\u001b[0m\u001b[1;33m)\u001b[0m\u001b[1;33m\u001b[0m\u001b[1;33m\u001b[0m\u001b[0m\n",
      "\u001b[1;31mTypeError\u001b[0m: can't multiply sequence by non-int of type 'float'"
     ]
    }
   ],
   "source": [
    "nt = dollar * 30.5\n",
    "print(n) "
   ]
  },
  {
   "cell_type": "code",
   "execution_count": 10,
   "id": "33b42db0",
   "metadata": {},
   "outputs": [
    {
     "data": {
      "text/plain": [
       "1220.0"
      ]
     },
     "execution_count": 10,
     "metadata": {},
     "output_type": "execute_result"
    }
   ],
   "source": [
    "float(dollar) * 30.5"
   ]
  },
  {
   "cell_type": "markdown",
   "id": "dfcb7de2",
   "metadata": {},
   "source": [
    "### 輸入美金，輸出台幣"
   ]
  },
  {
   "cell_type": "code",
   "execution_count": 12,
   "id": "b3a44e6b",
   "metadata": {},
   "outputs": [
    {
     "name": "stdout",
     "output_type": "stream",
     "text": [
      "美金: 477\n",
      "台幣:  14548.5\n"
     ]
    }
   ],
   "source": [
    "dollar = input(\"美金: \")\n",
    "ntDollar = float(dollar) * 30.5\n",
    "print(\"台幣: \" , ntDollar) #加逗號是在暨大營學的"
   ]
  },
  {
   "cell_type": "markdown",
   "id": "646a6552",
   "metadata": {},
   "source": [
    "str是字串的資料型態\n",
    "\n",
    "也可:"
   ]
  },
  {
   "cell_type": "code",
   "execution_count": 15,
   "id": "5448a12d",
   "metadata": {},
   "outputs": [
    {
     "name": "stdout",
     "output_type": "stream",
     "text": [
      "台幣 14548.5元\n"
     ]
    }
   ],
   "source": [
    "print(\"台幣 \" + str(ntDollar) + \"元\")"
   ]
  },
  {
   "cell_type": "markdown",
   "id": "ba3ee967",
   "metadata": {},
   "source": [
    "## 拍拍機器人"
   ]
  },
  {
   "cell_type": "markdown",
   "id": "29bc21b2",
   "metadata": {},
   "source": [
    "使用者輸入一段話，機器人全都回答拍拍"
   ]
  },
  {
   "cell_type": "code",
   "execution_count": 16,
   "id": "954eb4b9",
   "metadata": {},
   "outputs": [
    {
     "name": "stdout",
     "output_type": "stream",
     "text": [
      ">>我的進度還有一整個單元沒有做\n",
      "拍拍\n"
     ]
    }
   ],
   "source": [
    "message = input(\">>\")\n",
    "print(\"拍拍\")"
   ]
  },
  {
   "cell_type": "markdown",
   "id": "1681a541",
   "metadata": {},
   "source": [
    "改良:讓機器人會念使用者的名字，讓使用者感到溫暖"
   ]
  },
  {
   "cell_type": "code",
   "execution_count": 19,
   "id": "3a7d40e7",
   "metadata": {},
   "outputs": [
    {
     "name": "stdout",
     "output_type": "stream",
     "text": [
      "你可愛的名字: Jenny\n",
      ">>進度落後了 好難過\n",
      "拍拍Jenny,會好起來的\n"
     ]
    }
   ],
   "source": [
    "name = input(\"你可愛的名字: \")\n",
    "message = input(\">>\")\n",
    "print(\"拍拍\" + name + \",會好起來的\")"
   ]
  }
 ],
 "metadata": {
  "kernelspec": {
   "display_name": "Python 3 (ipykernel)",
   "language": "python",
   "name": "python3"
  },
  "language_info": {
   "codemirror_mode": {
    "name": "ipython",
    "version": 3
   },
   "file_extension": ".py",
   "mimetype": "text/x-python",
   "name": "python",
   "nbconvert_exporter": "python",
   "pygments_lexer": "ipython3",
   "version": "3.9.7"
  }
 },
 "nbformat": 4,
 "nbformat_minor": 5
}
