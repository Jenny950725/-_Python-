{
 "cells": [
  {
   "cell_type": "markdown",
   "id": "d0c4ae44",
   "metadata": {},
   "source": [
    "賦值給變數"
   ]
  },
  {
   "cell_type": "code",
   "execution_count": 1,
   "id": "77383277",
   "metadata": {},
   "outputs": [],
   "source": [
    "a = 3"
   ]
  },
  {
   "cell_type": "markdown",
   "id": "7801ecdb",
   "metadata": {},
   "source": [
    "把變數的值印出來"
   ]
  },
  {
   "cell_type": "code",
   "execution_count": 2,
   "id": "f710754c",
   "metadata": {},
   "outputs": [
    {
     "data": {
      "text/plain": [
       "3"
      ]
     },
     "execution_count": 2,
     "metadata": {},
     "output_type": "execute_result"
    }
   ],
   "source": [
    "a "
   ]
  },
  {
   "cell_type": "markdown",
   "id": "cd21b981",
   "metadata": {},
   "source": [
    "可做運算"
   ]
  },
  {
   "cell_type": "code",
   "execution_count": 3,
   "id": "b2f26305",
   "metadata": {},
   "outputs": [
    {
     "data": {
      "text/plain": [
       "10"
      ]
     },
     "execution_count": 3,
     "metadata": {},
     "output_type": "execute_result"
    }
   ],
   "source": [
    "a + 7 "
   ]
  },
  {
   "cell_type": "code",
   "execution_count": 4,
   "id": "9fd55477",
   "metadata": {},
   "outputs": [
    {
     "data": {
      "text/plain": [
       "27"
      ]
     },
     "execution_count": 4,
     "metadata": {},
     "output_type": "execute_result"
    }
   ],
   "source": [
    "a ** 3"
   ]
  },
  {
   "cell_type": "markdown",
   "id": "1d1d973a",
   "metadata": {},
   "source": [
    "### 題目用美金買了三樣東西，轉換成台幣"
   ]
  },
  {
   "cell_type": "markdown",
   "id": "799cf5ea",
   "metadata": {},
   "source": [
    "變數可為一個式子"
   ]
  },
  {
   "cell_type": "code",
   "execution_count": 5,
   "id": "cad3cf3c",
   "metadata": {},
   "outputs": [],
   "source": [
    "total = 34 + 456 + 77   "
   ]
  },
  {
   "cell_type": "code",
   "execution_count": 6,
   "id": "c0581d93",
   "metadata": {},
   "outputs": [
    {
     "data": {
      "text/plain": [
       "567"
      ]
     },
     "execution_count": 6,
     "metadata": {},
     "output_type": "execute_result"
    }
   ],
   "source": [
    "total"
   ]
  },
  {
   "cell_type": "markdown",
   "id": "df9e5fc1",
   "metadata": {},
   "source": [
    "在python3中 變數名可以是中文"
   ]
  },
  {
   "cell_type": "code",
   "execution_count": 1,
   "id": "8ec4b205",
   "metadata": {},
   "outputs": [],
   "source": [
    "底 = 3\n",
    "高 = 4"
   ]
  },
  {
   "cell_type": "code",
   "execution_count": 4,
   "id": "1c5b4cd4",
   "metadata": {},
   "outputs": [],
   "source": [
    "面積 = (底 * 高)/2"
   ]
  },
  {
   "cell_type": "code",
   "execution_count": 5,
   "id": "862d7b92",
   "metadata": {},
   "outputs": [
    {
     "data": {
      "text/plain": [
       "6.0"
      ]
     },
     "execution_count": 5,
     "metadata": {},
     "output_type": "execute_result"
    }
   ],
   "source": [
    "面積"
   ]
  }
 ],
 "metadata": {
  "kernelspec": {
   "display_name": "Python 3 (ipykernel)",
   "language": "python",
   "name": "python3"
  },
  "language_info": {
   "codemirror_mode": {
    "name": "ipython",
    "version": 3
   },
   "file_extension": ".py",
   "mimetype": "text/x-python",
   "name": "python",
   "nbconvert_exporter": "python",
   "pygments_lexer": "ipython3",
   "version": "3.9.7"
  }
 },
 "nbformat": 4,
 "nbformat_minor": 5
}
