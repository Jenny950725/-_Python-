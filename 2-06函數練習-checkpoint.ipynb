{
 "cells": [
  {
   "cell_type": "code",
   "execution_count": 3,
   "id": "3e585a53",
   "metadata": {},
   "outputs": [],
   "source": [
    "def say_hello(name,place):\n",
    "    message = \"你好,來自{}的{}\".format(place,name)\n",
    "    return message"
   ]
  },
  {
   "cell_type": "code",
   "execution_count": 5,
   "id": "4af2e64b",
   "metadata": {},
   "outputs": [
    {
     "data": {
      "text/plain": [
       "'你好,來自桃園的佳宸'"
      ]
     },
     "execution_count": 5,
     "metadata": {},
     "output_type": "execute_result"
    }
   ],
   "source": [
    "say_hello(\"佳宸\",\"桃園\")"
   ]
  },
  {
   "cell_type": "code",
   "execution_count": 6,
   "id": "08f7024b",
   "metadata": {},
   "outputs": [
    {
     "data": {
      "text/plain": [
       "'你好,來自屏東的昭君'"
      ]
     },
     "execution_count": 6,
     "metadata": {},
     "output_type": "execute_result"
    }
   ],
   "source": [
    "say_hello(\"昭君\",\"屏東\")"
   ]
  }
 ],
 "metadata": {
  "kernelspec": {
   "display_name": "Python 3 (ipykernel)",
   "language": "python",
   "name": "python3"
  },
  "language_info": {
   "codemirror_mode": {
    "name": "ipython",
    "version": 3
   },
   "file_extension": ".py",
   "mimetype": "text/x-python",
   "name": "python",
   "nbconvert_exporter": "python",
   "pygments_lexer": "ipython3",
   "version": "3.9.7"
  }
 },
 "nbformat": 4,
 "nbformat_minor": 5
}
