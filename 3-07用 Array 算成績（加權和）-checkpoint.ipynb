{
 "cells": [
  {
   "cell_type": "code",
   "execution_count": 1,
   "id": "91182172",
   "metadata": {},
   "outputs": [],
   "source": [
    "%matplotlib inline\n",
    "import numpy as np\n",
    "import matplotlib.pyplot as plt"
   ]
  },
  {
   "cell_type": "markdown",
   "id": "d325fd94",
   "metadata": {},
   "source": [
    "慢動作版"
   ]
  },
  {
   "cell_type": "code",
   "execution_count": 7,
   "id": "b247bb5b",
   "metadata": {},
   "outputs": [],
   "source": [
    "grades = np.array([64,47,89])"
   ]
  },
  {
   "cell_type": "code",
   "execution_count": 8,
   "id": "d1b7f72f",
   "metadata": {},
   "outputs": [],
   "source": [
    "weights = np.array([0.3,0.3,0.4])"
   ]
  },
  {
   "cell_type": "markdown",
   "id": "7dca1eda",
   "metadata": {},
   "source": [
    "array可以直接將個別位置相乘 新array = array1 * array2"
   ]
  },
  {
   "cell_type": "code",
   "execution_count": 9,
   "id": "f1252240",
   "metadata": {},
   "outputs": [],
   "source": [
    "weightedGrades = grades * weights "
   ]
  },
  {
   "cell_type": "code",
   "execution_count": 10,
   "id": "dc512311",
   "metadata": {},
   "outputs": [
    {
     "data": {
      "text/plain": [
       "array([19.2, 14.1, 35.6])"
      ]
     },
     "execution_count": 10,
     "metadata": {},
     "output_type": "execute_result"
    }
   ],
   "source": [
    "weightedGrades"
   ]
  },
  {
   "cell_type": "markdown",
   "id": "f29accb7",
   "metadata": {},
   "source": [
    "相加 array.sum()"
   ]
  },
  {
   "cell_type": "code",
   "execution_count": 15,
   "id": "3ac3517e",
   "metadata": {},
   "outputs": [
    {
     "data": {
      "text/plain": [
       "68.9"
      ]
     },
     "execution_count": 15,
     "metadata": {},
     "output_type": "execute_result"
    }
   ],
   "source": [
    "weightedGrades.sum()  "
   ]
  },
  {
   "cell_type": "markdown",
   "id": "fa687a23",
   "metadata": {},
   "source": [
    "快速動作"
   ]
  },
  {
   "cell_type": "markdown",
   "id": "2c1b2736",
   "metadata": {},
   "source": [
    "np.dot(array1,array2) 內積，我也不知道那是甚麼，但我知道二維卷積"
   ]
  },
  {
   "cell_type": "code",
   "execution_count": 14,
   "id": "280ea4aa",
   "metadata": {},
   "outputs": [
    {
     "data": {
      "text/plain": [
       "68.89999999999999"
      ]
     },
     "execution_count": 14,
     "metadata": {},
     "output_type": "execute_result"
    }
   ],
   "source": [
    "np.dot(grades,weights)  "
   ]
  }
 ],
 "metadata": {
  "kernelspec": {
   "display_name": "Python 3 (ipykernel)",
   "language": "python",
   "name": "python3"
  },
  "language_info": {
   "codemirror_mode": {
    "name": "ipython",
    "version": 3
   },
   "file_extension": ".py",
   "mimetype": "text/x-python",
   "name": "python",
   "nbconvert_exporter": "python",
   "pygments_lexer": "ipython3",
   "version": "3.9.7"
  }
 },
 "nbformat": 4,
 "nbformat_minor": 5
}
