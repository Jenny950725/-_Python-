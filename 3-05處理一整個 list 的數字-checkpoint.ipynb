{
 "cells": [
  {
   "cell_type": "markdown",
   "id": "8429cc75",
   "metadata": {},
   "source": [
    "### 有三支手錶，把他們的價格從美金轉成台幣，放到list裡面"
   ]
  },
  {
   "cell_type": "code",
   "execution_count": 2,
   "id": "ee758906",
   "metadata": {},
   "outputs": [],
   "source": [
    "watch=[212,319,640]"
   ]
  },
  {
   "cell_type": "code",
   "execution_count": 3,
   "id": "6e403e75",
   "metadata": {},
   "outputs": [],
   "source": [
    "ntDollar=[]  #先建一個空的list"
   ]
  },
  {
   "cell_type": "code",
   "execution_count": 4,
   "id": "d5b91b2b",
   "metadata": {},
   "outputs": [],
   "source": [
    "for i in watch:\n",
    "    nt=i*30\n",
    "    ntDollar.append(nt)"
   ]
  },
  {
   "cell_type": "code",
   "execution_count": 5,
   "id": "20754578",
   "metadata": {},
   "outputs": [
    {
     "data": {
      "text/plain": [
       "[6360, 9570, 19200]"
      ]
     },
     "execution_count": 5,
     "metadata": {},
     "output_type": "execute_result"
    }
   ],
   "source": [
    "ntDollar"
   ]
  },
  {
   "cell_type": "markdown",
   "id": "1787075d",
   "metadata": {},
   "source": [
    "## list名稱.append(要放進list裡的東西)"
   ]
  }
 ],
 "metadata": {
  "kernelspec": {
   "display_name": "Python 3 (ipykernel)",
   "language": "python",
   "name": "python3"
  },
  "language_info": {
   "codemirror_mode": {
    "name": "ipython",
    "version": 3
   },
   "file_extension": ".py",
   "mimetype": "text/x-python",
   "name": "python",
   "nbconvert_exporter": "python",
   "pygments_lexer": "ipython3",
   "version": "3.9.7"
  }
 },
 "nbformat": 4,
 "nbformat_minor": 5
}
